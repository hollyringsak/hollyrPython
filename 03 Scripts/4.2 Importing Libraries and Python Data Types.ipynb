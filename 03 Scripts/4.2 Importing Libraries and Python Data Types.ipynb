{
 "cells": [
  {
   "cell_type": "code",
   "execution_count": 1,
   "id": "5f1a0f72",
   "metadata": {},
   "outputs": [],
   "source": [
    "# Import Libraries"
   ]
  },
  {
   "cell_type": "code",
   "execution_count": 3,
   "id": "d382d4f2",
   "metadata": {},
   "outputs": [],
   "source": [
    "# Import libraries\n",
    "import pandas as pd\n",
    "import numpy as np\n",
    "import os"
   ]
  },
  {
   "cell_type": "code",
   "execution_count": 4,
   "id": "7138cc39",
   "metadata": {},
   "outputs": [],
   "source": [
    "# Python Data Types"
   ]
  },
  {
   "cell_type": "code",
   "execution_count": 5,
   "id": "eb4a7759",
   "metadata": {},
   "outputs": [],
   "source": [
    "x=25"
   ]
  },
  {
   "cell_type": "code",
   "execution_count": 6,
   "id": "890bcafe",
   "metadata": {},
   "outputs": [],
   "source": [
    "y=50"
   ]
  },
  {
   "cell_type": "code",
   "execution_count": 7,
   "id": "0e8ae3a7",
   "metadata": {},
   "outputs": [
    {
     "data": {
      "text/plain": [
       "125"
      ]
     },
     "execution_count": 7,
     "metadata": {},
     "output_type": "execute_result"
    }
   ],
   "source": [
    "x+y+y"
   ]
  },
  {
   "cell_type": "code",
   "execution_count": 8,
   "id": "c2cedffb",
   "metadata": {},
   "outputs": [
    {
     "data": {
      "text/plain": [
       "100"
      ]
     },
     "execution_count": 8,
     "metadata": {},
     "output_type": "execute_result"
    }
   ],
   "source": [
    "x+x+y"
   ]
  },
  {
   "cell_type": "code",
   "execution_count": 9,
   "id": "aeaa6089",
   "metadata": {},
   "outputs": [],
   "source": [
    "z=175"
   ]
  },
  {
   "cell_type": "code",
   "execution_count": 10,
   "id": "9a25f4dd",
   "metadata": {},
   "outputs": [
    {
     "data": {
      "text/plain": [
       "100"
      ]
     },
     "execution_count": 10,
     "metadata": {},
     "output_type": "execute_result"
    }
   ],
   "source": [
    "z-y-x"
   ]
  },
  {
   "cell_type": "code",
   "execution_count": 11,
   "id": "53691618",
   "metadata": {},
   "outputs": [
    {
     "data": {
      "text/plain": [
       "100"
      ]
     },
     "execution_count": 11,
     "metadata": {},
     "output_type": "execute_result"
    }
   ],
   "source": [
    "x+x+50"
   ]
  },
  {
   "cell_type": "code",
   "execution_count": 12,
   "id": "ca4397cb",
   "metadata": {},
   "outputs": [],
   "source": [
    "a=98.123"
   ]
  },
  {
   "cell_type": "code",
   "execution_count": 13,
   "id": "d05d5636",
   "metadata": {},
   "outputs": [],
   "source": [
    "b=3.4343"
   ]
  },
  {
   "cell_type": "code",
   "execution_count": 14,
   "id": "fa8fc24f",
   "metadata": {},
   "outputs": [
    {
     "data": {
      "text/plain": [
       "28.57147016859331"
      ]
     },
     "execution_count": 14,
     "metadata": {},
     "output_type": "execute_result"
    }
   ],
   "source": [
    "a/b"
   ]
  },
  {
   "cell_type": "code",
   "execution_count": 15,
   "id": "99c2c5c9",
   "metadata": {},
   "outputs": [],
   "source": [
    "m='Net'"
   ]
  },
  {
   "cell_type": "code",
   "execution_count": 16,
   "id": "f2d8c1ac",
   "metadata": {},
   "outputs": [
    {
     "name": "stdout",
     "output_type": "stream",
     "text": [
      "Net\n"
     ]
    }
   ],
   "source": [
    "print(m)"
   ]
  },
  {
   "cell_type": "code",
   "execution_count": 17,
   "id": "a3028053",
   "metadata": {},
   "outputs": [],
   "source": [
    "n='work'"
   ]
  },
  {
   "cell_type": "code",
   "execution_count": 18,
   "id": "a934f372",
   "metadata": {},
   "outputs": [],
   "source": [
    "m=n"
   ]
  },
  {
   "cell_type": "code",
   "execution_count": 19,
   "id": "608fbb81",
   "metadata": {},
   "outputs": [
    {
     "data": {
      "text/plain": [
       "'workwork'"
      ]
     },
     "execution_count": 19,
     "metadata": {},
     "output_type": "execute_result"
    }
   ],
   "source": [
    "m+n"
   ]
  },
  {
   "cell_type": "code",
   "execution_count": 20,
   "id": "39f1a645",
   "metadata": {},
   "outputs": [],
   "source": [
    "m='Net'"
   ]
  },
  {
   "cell_type": "code",
   "execution_count": 21,
   "id": "cb009100",
   "metadata": {},
   "outputs": [],
   "source": [
    "n='work'"
   ]
  },
  {
   "cell_type": "code",
   "execution_count": 22,
   "id": "e5bdd1bd",
   "metadata": {},
   "outputs": [
    {
     "data": {
      "text/plain": [
       "'Network'"
      ]
     },
     "execution_count": 22,
     "metadata": {},
     "output_type": "execute_result"
    }
   ],
   "source": [
    "m+n"
   ]
  },
  {
   "cell_type": "code",
   "execution_count": 23,
   "id": "58e3cd76",
   "metadata": {},
   "outputs": [],
   "source": [
    "c='Hello, '"
   ]
  },
  {
   "cell_type": "code",
   "execution_count": 24,
   "id": "e657f485",
   "metadata": {},
   "outputs": [],
   "source": [
    "d='my name is'"
   ]
  },
  {
   "cell_type": "code",
   "execution_count": 25,
   "id": "06b2a554",
   "metadata": {},
   "outputs": [],
   "source": [
    "e='Holly'"
   ]
  },
  {
   "cell_type": "code",
   "execution_count": 26,
   "id": "c74c0852",
   "metadata": {},
   "outputs": [
    {
     "data": {
      "text/plain": [
       "'Hello, my name isHolly'"
      ]
     },
     "execution_count": 26,
     "metadata": {},
     "output_type": "execute_result"
    }
   ],
   "source": [
    "c+d+e"
   ]
  },
  {
   "cell_type": "code",
   "execution_count": 27,
   "id": "336590c7",
   "metadata": {},
   "outputs": [],
   "source": [
    "d='my name is '"
   ]
  },
  {
   "cell_type": "code",
   "execution_count": 28,
   "id": "1b897d0d",
   "metadata": {},
   "outputs": [
    {
     "data": {
      "text/plain": [
       "'Hello, my name is Holly'"
      ]
     },
     "execution_count": 28,
     "metadata": {},
     "output_type": "execute_result"
    }
   ],
   "source": [
    "c+d+e"
   ]
  },
  {
   "cell_type": "code",
   "execution_count": 29,
   "id": "421d7063",
   "metadata": {},
   "outputs": [],
   "source": [
    "f='My favorite '"
   ]
  },
  {
   "cell_type": "code",
   "execution_count": 30,
   "id": "325af6d7",
   "metadata": {},
   "outputs": [],
   "source": [
    "g='color '"
   ]
  },
  {
   "cell_type": "code",
   "execution_count": 31,
   "id": "580b008f",
   "metadata": {},
   "outputs": [],
   "source": [
    "h=\"is pink\""
   ]
  },
  {
   "cell_type": "code",
   "execution_count": 32,
   "id": "925f9465",
   "metadata": {},
   "outputs": [
    {
     "data": {
      "text/plain": [
       "'My favorite color is pink'"
      ]
     },
     "execution_count": 32,
     "metadata": {},
     "output_type": "execute_result"
    }
   ],
   "source": [
    "f+g+h"
   ]
  },
  {
   "cell_type": "code",
   "execution_count": null,
   "id": "67f6a236",
   "metadata": {},
   "outputs": [],
   "source": []
  }
 ],
 "metadata": {
  "kernelspec": {
   "display_name": "Python 3 (ipykernel)",
   "language": "python",
   "name": "python3"
  },
  "language_info": {
   "codemirror_mode": {
    "name": "ipython",
    "version": 3
   },
   "file_extension": ".py",
   "mimetype": "text/x-python",
   "name": "python",
   "nbconvert_exporter": "python",
   "pygments_lexer": "ipython3",
   "version": "3.11.5"
  }
 },
 "nbformat": 4,
 "nbformat_minor": 5
}
