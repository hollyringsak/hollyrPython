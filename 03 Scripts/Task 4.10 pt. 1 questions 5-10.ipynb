{
 "cells": [
  {
   "cell_type": "markdown",
   "id": "627c2eaf",
   "metadata": {},
   "source": [
    "# Import Libraries"
   ]
  },
  {
   "cell_type": "code",
   "execution_count": 8,
   "id": "13ff47aa",
   "metadata": {},
   "outputs": [],
   "source": [
    "# Importing libraries\n",
    "import pandas as pd\n",
    "import numpy as np\n",
    "import os\n",
    "import matplotlib.pyplot as plt\n",
    "import seaborn as sns\n",
    "import scipy"
   ]
  },
  {
   "cell_type": "code",
   "execution_count": 9,
   "id": "331eb325",
   "metadata": {},
   "outputs": [],
   "source": [
    "# Import dataframe\n",
    "path = r'/Users/hollyringsak/01-2024 Instacart Basket Analysis'"
   ]
  },
  {
   "cell_type": "code",
   "execution_count": 10,
   "id": "0dedca80",
   "metadata": {},
   "outputs": [],
   "source": [
    "cust_ords_exclusion = pd.read_pickle(os.path.join(path, '02 Data', 'Prepared Data', 'cust_ords_exclusion.pkl'))"
   ]
  },
  {
   "cell_type": "markdown",
   "id": "51825575",
   "metadata": {},
   "source": [
    "# Step 5 "
   ]
  },
  {
   "cell_type": "code",
   "execution_count": 11,
   "id": "baeefeb5",
   "metadata": {},
   "outputs": [
    {
     "data": {
      "text/plain": [
       "Index(['user_id', 'First Name', 'Surname', 'Gender', 'State', 'Age',\n",
       "       'date_joined', 'number_of_dependents', 'fam_status', 'income',\n",
       "       'Unnamed: 0', 'Unnamed: 0_x', 'product_id', 'product_name', 'aisle_id',\n",
       "       'department_id', 'prices', 'Unnamed: 0_y', 'order_id',\n",
       "       'number_of_orders', 'orders_day_of_week', 'order_hour_of_day',\n",
       "       'days_since_last_order', 'add_to_cart_order', 'reordered', '_merge',\n",
       "       'merge_2', 'price_range_loc', 'busiest_day', 'days_of_week_loc',\n",
       "       'busiest_days', 'busiest_period_of_day', 'max_order', 'loyalty_flag',\n",
       "       'max_prices', 'spending_flag', 'mean_prices',\n",
       "       'median_days_since_last_order', 'frequency_flag', 'Region',\n",
       "       'exclusion_flag'],\n",
       "      dtype='object')"
      ]
     },
     "execution_count": 11,
     "metadata": {},
     "output_type": "execute_result"
    }
   ],
   "source": [
    "cust_ords_exclusion.columns"
   ]
  },
  {
   "cell_type": "code",
   "execution_count": 12,
   "id": "044d7054",
   "metadata": {},
   "outputs": [],
   "source": [
    "# Creating a subset\n",
    "profile_columns = ['Gender', 'State', 'Age', 'number_of_dependents', 'fam_status', 'income', 'product_id', 'product_name', 'department_id', 'prices', 'order_id', 'number_of_orders', 'orders_day_of_week', 'order_hour_of_day', 'price_range_loc', 'max_order', 'loyalty_flag', 'Region', 'mean_prices', 'spending_flag', 'frequency_flag', 'days_since_last_order', 'reordered', 'median_days_since_last_order' ]"
   ]
  },
  {
   "cell_type": "code",
   "execution_count": 13,
   "id": "bc13e90d",
   "metadata": {},
   "outputs": [],
   "source": [
    "customer_profile_sample = cust_ords_exclusion[profile_columns]"
   ]
  },
  {
   "cell_type": "code",
   "execution_count": 14,
   "id": "08c9764a",
   "metadata": {},
   "outputs": [
    {
     "data": {
      "text/html": [
       "<div>\n",
       "<style scoped>\n",
       "    .dataframe tbody tr th:only-of-type {\n",
       "        vertical-align: middle;\n",
       "    }\n",
       "\n",
       "    .dataframe tbody tr th {\n",
       "        vertical-align: top;\n",
       "    }\n",
       "\n",
       "    .dataframe thead th {\n",
       "        text-align: right;\n",
       "    }\n",
       "</style>\n",
       "<table border=\"1\" class=\"dataframe\">\n",
       "  <thead>\n",
       "    <tr style=\"text-align: right;\">\n",
       "      <th></th>\n",
       "      <th>Gender</th>\n",
       "      <th>State</th>\n",
       "      <th>Age</th>\n",
       "      <th>number_of_dependents</th>\n",
       "      <th>fam_status</th>\n",
       "      <th>income</th>\n",
       "      <th>product_id</th>\n",
       "      <th>product_name</th>\n",
       "      <th>department_id</th>\n",
       "      <th>prices</th>\n",
       "      <th>...</th>\n",
       "      <th>price_range_loc</th>\n",
       "      <th>max_order</th>\n",
       "      <th>loyalty_flag</th>\n",
       "      <th>Region</th>\n",
       "      <th>mean_prices</th>\n",
       "      <th>spending_flag</th>\n",
       "      <th>frequency_flag</th>\n",
       "      <th>days_since_last_order</th>\n",
       "      <th>reordered</th>\n",
       "      <th>median_days_since_last_order</th>\n",
       "    </tr>\n",
       "  </thead>\n",
       "  <tbody>\n",
       "    <tr>\n",
       "      <th>0</th>\n",
       "      <td>Female</td>\n",
       "      <td>Connecticut</td>\n",
       "      <td>80</td>\n",
       "      <td>1</td>\n",
       "      <td>married</td>\n",
       "      <td>166726</td>\n",
       "      <td>28</td>\n",
       "      <td>Wheat Chex Cereal</td>\n",
       "      <td>14</td>\n",
       "      <td>10.1</td>\n",
       "      <td>...</td>\n",
       "      <td>Mid-range product</td>\n",
       "      <td>3</td>\n",
       "      <td>New customer</td>\n",
       "      <td>Northeast</td>\n",
       "      <td>7.339130</td>\n",
       "      <td>Low spender</td>\n",
       "      <td>Frequent customer</td>\n",
       "      <td>NaN</td>\n",
       "      <td>0</td>\n",
       "      <td>8.0</td>\n",
       "    </tr>\n",
       "    <tr>\n",
       "      <th>1</th>\n",
       "      <td>Male</td>\n",
       "      <td>New York</td>\n",
       "      <td>58</td>\n",
       "      <td>2</td>\n",
       "      <td>married</td>\n",
       "      <td>98633</td>\n",
       "      <td>10</td>\n",
       "      <td>Sparkling Orange Juice &amp; Prickly Pear Beverage</td>\n",
       "      <td>7</td>\n",
       "      <td>8.4</td>\n",
       "      <td>...</td>\n",
       "      <td>Mid-range product</td>\n",
       "      <td>4</td>\n",
       "      <td>New customer</td>\n",
       "      <td>Northeast</td>\n",
       "      <td>8.123077</td>\n",
       "      <td>Low spender</td>\n",
       "      <td>Non-frequent customer</td>\n",
       "      <td>26.0</td>\n",
       "      <td>0</td>\n",
       "      <td>26.0</td>\n",
       "    </tr>\n",
       "    <tr>\n",
       "      <th>2</th>\n",
       "      <td>Female</td>\n",
       "      <td>New Hampshire</td>\n",
       "      <td>56</td>\n",
       "      <td>2</td>\n",
       "      <td>married</td>\n",
       "      <td>47966</td>\n",
       "      <td>25</td>\n",
       "      <td>Salted Caramel Lean Protein &amp; Fiber Bar</td>\n",
       "      <td>19</td>\n",
       "      <td>1.9</td>\n",
       "      <td>...</td>\n",
       "      <td>Low-range product</td>\n",
       "      <td>93</td>\n",
       "      <td>Loyal customer</td>\n",
       "      <td>Northeast</td>\n",
       "      <td>6.408088</td>\n",
       "      <td>Low spender</td>\n",
       "      <td>Frequent customer</td>\n",
       "      <td>6.0</td>\n",
       "      <td>0</td>\n",
       "      <td>4.0</td>\n",
       "    </tr>\n",
       "    <tr>\n",
       "      <th>3</th>\n",
       "      <td>Female</td>\n",
       "      <td>New Hampshire</td>\n",
       "      <td>56</td>\n",
       "      <td>2</td>\n",
       "      <td>married</td>\n",
       "      <td>47966</td>\n",
       "      <td>25</td>\n",
       "      <td>Salted Caramel Lean Protein &amp; Fiber Bar</td>\n",
       "      <td>19</td>\n",
       "      <td>1.9</td>\n",
       "      <td>...</td>\n",
       "      <td>Low-range product</td>\n",
       "      <td>93</td>\n",
       "      <td>Loyal customer</td>\n",
       "      <td>Northeast</td>\n",
       "      <td>6.408088</td>\n",
       "      <td>Low spender</td>\n",
       "      <td>Frequent customer</td>\n",
       "      <td>5.0</td>\n",
       "      <td>1</td>\n",
       "      <td>4.0</td>\n",
       "    </tr>\n",
       "    <tr>\n",
       "      <th>4</th>\n",
       "      <td>Female</td>\n",
       "      <td>New Hampshire</td>\n",
       "      <td>56</td>\n",
       "      <td>2</td>\n",
       "      <td>married</td>\n",
       "      <td>47966</td>\n",
       "      <td>25</td>\n",
       "      <td>Salted Caramel Lean Protein &amp; Fiber Bar</td>\n",
       "      <td>19</td>\n",
       "      <td>1.9</td>\n",
       "      <td>...</td>\n",
       "      <td>Low-range product</td>\n",
       "      <td>93</td>\n",
       "      <td>Loyal customer</td>\n",
       "      <td>Northeast</td>\n",
       "      <td>6.408088</td>\n",
       "      <td>Low spender</td>\n",
       "      <td>Frequent customer</td>\n",
       "      <td>5.0</td>\n",
       "      <td>1</td>\n",
       "      <td>4.0</td>\n",
       "    </tr>\n",
       "  </tbody>\n",
       "</table>\n",
       "<p>5 rows × 24 columns</p>\n",
       "</div>"
      ],
      "text/plain": [
       "   Gender          State  Age  number_of_dependents fam_status  income  \\\n",
       "0  Female    Connecticut   80                     1    married  166726   \n",
       "1    Male       New York   58                     2    married   98633   \n",
       "2  Female  New Hampshire   56                     2    married   47966   \n",
       "3  Female  New Hampshire   56                     2    married   47966   \n",
       "4  Female  New Hampshire   56                     2    married   47966   \n",
       "\n",
       "   product_id                                    product_name  department_id  \\\n",
       "0          28                               Wheat Chex Cereal             14   \n",
       "1          10  Sparkling Orange Juice & Prickly Pear Beverage              7   \n",
       "2          25         Salted Caramel Lean Protein & Fiber Bar             19   \n",
       "3          25         Salted Caramel Lean Protein & Fiber Bar             19   \n",
       "4          25         Salted Caramel Lean Protein & Fiber Bar             19   \n",
       "\n",
       "   prices  ...    price_range_loc  max_order    loyalty_flag     Region  \\\n",
       "0    10.1  ...  Mid-range product          3    New customer  Northeast   \n",
       "1     8.4  ...  Mid-range product          4    New customer  Northeast   \n",
       "2     1.9  ...  Low-range product         93  Loyal customer  Northeast   \n",
       "3     1.9  ...  Low-range product         93  Loyal customer  Northeast   \n",
       "4     1.9  ...  Low-range product         93  Loyal customer  Northeast   \n",
       "\n",
       "  mean_prices  spending_flag         frequency_flag days_since_last_order  \\\n",
       "0    7.339130    Low spender      Frequent customer                   NaN   \n",
       "1    8.123077    Low spender  Non-frequent customer                  26.0   \n",
       "2    6.408088    Low spender      Frequent customer                   6.0   \n",
       "3    6.408088    Low spender      Frequent customer                   5.0   \n",
       "4    6.408088    Low spender      Frequent customer                   5.0   \n",
       "\n",
       "   reordered median_days_since_last_order  \n",
       "0          0                          8.0  \n",
       "1          0                         26.0  \n",
       "2          0                          4.0  \n",
       "3          1                          4.0  \n",
       "4          1                          4.0  \n",
       "\n",
       "[5 rows x 24 columns]"
      ]
     },
     "execution_count": 14,
     "metadata": {},
     "output_type": "execute_result"
    }
   ],
   "source": [
    "# Checking results\n",
    "customer_profile_sample.head()"
   ]
  },
  {
   "cell_type": "code",
   "execution_count": 15,
   "id": "28f9cc76",
   "metadata": {},
   "outputs": [
    {
     "data": {
      "text/plain": [
       "(31640379, 24)"
      ]
     },
     "execution_count": 15,
     "metadata": {},
     "output_type": "execute_result"
    }
   ],
   "source": [
    "customer_profile_sample.shape"
   ]
  },
  {
   "cell_type": "code",
   "execution_count": 16,
   "id": "d609e532",
   "metadata": {},
   "outputs": [],
   "source": [
    "# Export Sample \n",
    "customer_profile_sample.to_pickle(os.path.join(path, '02 Data', 'Prepared Data', 'customer_profile_sample.pkl'))"
   ]
  },
  {
   "cell_type": "code",
   "execution_count": 17,
   "id": "a9c045a6",
   "metadata": {},
   "outputs": [],
   "source": [
    "# Create random seed\n",
    "np.random.seed(4)\n",
    "dev = np.random.rand(len(customer_profile_sample)) <= 0.7"
   ]
  },
  {
   "cell_type": "code",
   "execution_count": 18,
   "id": "e1f414f6",
   "metadata": {},
   "outputs": [],
   "source": [
    "# Store 70% of sample into dataframe big\n",
    "big = customer_profile_sample[dev]"
   ]
  },
  {
   "cell_type": "code",
   "execution_count": 19,
   "id": "359fd401",
   "metadata": {},
   "outputs": [],
   "source": [
    "# Store 30% of sample into dataframe small\n",
    "small = customer_profile_sample[~dev]"
   ]
  },
  {
   "cell_type": "code",
   "execution_count": 20,
   "id": "379ed6fb",
   "metadata": {},
   "outputs": [
    {
     "data": {
      "text/plain": [
       "(9491887, 24)"
      ]
     },
     "execution_count": 20,
     "metadata": {},
     "output_type": "execute_result"
    }
   ],
   "source": [
    "# Checking results\n",
    "small.shape"
   ]
  },
  {
   "cell_type": "code",
   "execution_count": 21,
   "id": "443b5883",
   "metadata": {},
   "outputs": [
    {
     "data": {
      "text/html": [
       "<div>\n",
       "<style scoped>\n",
       "    .dataframe tbody tr th:only-of-type {\n",
       "        vertical-align: middle;\n",
       "    }\n",
       "\n",
       "    .dataframe tbody tr th {\n",
       "        vertical-align: top;\n",
       "    }\n",
       "\n",
       "    .dataframe thead th {\n",
       "        text-align: right;\n",
       "    }\n",
       "</style>\n",
       "<table border=\"1\" class=\"dataframe\">\n",
       "  <thead>\n",
       "    <tr style=\"text-align: right;\">\n",
       "      <th></th>\n",
       "      <th>Gender</th>\n",
       "      <th>State</th>\n",
       "      <th>Age</th>\n",
       "      <th>number_of_dependents</th>\n",
       "      <th>fam_status</th>\n",
       "      <th>income</th>\n",
       "      <th>product_id</th>\n",
       "      <th>product_name</th>\n",
       "      <th>department_id</th>\n",
       "      <th>prices</th>\n",
       "      <th>...</th>\n",
       "      <th>price_range_loc</th>\n",
       "      <th>max_order</th>\n",
       "      <th>loyalty_flag</th>\n",
       "      <th>Region</th>\n",
       "      <th>mean_prices</th>\n",
       "      <th>spending_flag</th>\n",
       "      <th>frequency_flag</th>\n",
       "      <th>days_since_last_order</th>\n",
       "      <th>reordered</th>\n",
       "      <th>median_days_since_last_order</th>\n",
       "    </tr>\n",
       "  </thead>\n",
       "  <tbody>\n",
       "    <tr>\n",
       "      <th>0</th>\n",
       "      <td>Female</td>\n",
       "      <td>Connecticut</td>\n",
       "      <td>80</td>\n",
       "      <td>1</td>\n",
       "      <td>married</td>\n",
       "      <td>166726</td>\n",
       "      <td>28</td>\n",
       "      <td>Wheat Chex Cereal</td>\n",
       "      <td>14</td>\n",
       "      <td>10.1</td>\n",
       "      <td>...</td>\n",
       "      <td>Mid-range product</td>\n",
       "      <td>3</td>\n",
       "      <td>New customer</td>\n",
       "      <td>Northeast</td>\n",
       "      <td>7.339130</td>\n",
       "      <td>Low spender</td>\n",
       "      <td>Frequent customer</td>\n",
       "      <td>NaN</td>\n",
       "      <td>0</td>\n",
       "      <td>8.0</td>\n",
       "    </tr>\n",
       "    <tr>\n",
       "      <th>2</th>\n",
       "      <td>Female</td>\n",
       "      <td>New Hampshire</td>\n",
       "      <td>56</td>\n",
       "      <td>2</td>\n",
       "      <td>married</td>\n",
       "      <td>47966</td>\n",
       "      <td>25</td>\n",
       "      <td>Salted Caramel Lean Protein &amp; Fiber Bar</td>\n",
       "      <td>19</td>\n",
       "      <td>1.9</td>\n",
       "      <td>...</td>\n",
       "      <td>Low-range product</td>\n",
       "      <td>93</td>\n",
       "      <td>Loyal customer</td>\n",
       "      <td>Northeast</td>\n",
       "      <td>6.408088</td>\n",
       "      <td>Low spender</td>\n",
       "      <td>Frequent customer</td>\n",
       "      <td>6.0</td>\n",
       "      <td>0</td>\n",
       "      <td>4.0</td>\n",
       "    </tr>\n",
       "    <tr>\n",
       "      <th>3</th>\n",
       "      <td>Female</td>\n",
       "      <td>New Hampshire</td>\n",
       "      <td>56</td>\n",
       "      <td>2</td>\n",
       "      <td>married</td>\n",
       "      <td>47966</td>\n",
       "      <td>25</td>\n",
       "      <td>Salted Caramel Lean Protein &amp; Fiber Bar</td>\n",
       "      <td>19</td>\n",
       "      <td>1.9</td>\n",
       "      <td>...</td>\n",
       "      <td>Low-range product</td>\n",
       "      <td>93</td>\n",
       "      <td>Loyal customer</td>\n",
       "      <td>Northeast</td>\n",
       "      <td>6.408088</td>\n",
       "      <td>Low spender</td>\n",
       "      <td>Frequent customer</td>\n",
       "      <td>5.0</td>\n",
       "      <td>1</td>\n",
       "      <td>4.0</td>\n",
       "    </tr>\n",
       "    <tr>\n",
       "      <th>6</th>\n",
       "      <td>Female</td>\n",
       "      <td>New Hampshire</td>\n",
       "      <td>56</td>\n",
       "      <td>2</td>\n",
       "      <td>married</td>\n",
       "      <td>47966</td>\n",
       "      <td>25</td>\n",
       "      <td>Salted Caramel Lean Protein &amp; Fiber Bar</td>\n",
       "      <td>19</td>\n",
       "      <td>1.9</td>\n",
       "      <td>...</td>\n",
       "      <td>Low-range product</td>\n",
       "      <td>93</td>\n",
       "      <td>Loyal customer</td>\n",
       "      <td>Northeast</td>\n",
       "      <td>6.408088</td>\n",
       "      <td>Low spender</td>\n",
       "      <td>Frequent customer</td>\n",
       "      <td>3.0</td>\n",
       "      <td>1</td>\n",
       "      <td>4.0</td>\n",
       "    </tr>\n",
       "    <tr>\n",
       "      <th>10</th>\n",
       "      <td>Female</td>\n",
       "      <td>Wyoming</td>\n",
       "      <td>43</td>\n",
       "      <td>2</td>\n",
       "      <td>married</td>\n",
       "      <td>142413</td>\n",
       "      <td>23</td>\n",
       "      <td>Organic Turkey Burgers</td>\n",
       "      <td>12</td>\n",
       "      <td>8.2</td>\n",
       "      <td>...</td>\n",
       "      <td>Mid-range product</td>\n",
       "      <td>52</td>\n",
       "      <td>Loyal customer</td>\n",
       "      <td>West</td>\n",
       "      <td>7.912150</td>\n",
       "      <td>Low spender</td>\n",
       "      <td>Frequent customer</td>\n",
       "      <td>11.0</td>\n",
       "      <td>0</td>\n",
       "      <td>7.0</td>\n",
       "    </tr>\n",
       "  </tbody>\n",
       "</table>\n",
       "<p>5 rows × 24 columns</p>\n",
       "</div>"
      ],
      "text/plain": [
       "    Gender          State  Age  number_of_dependents fam_status  income  \\\n",
       "0   Female    Connecticut   80                     1    married  166726   \n",
       "2   Female  New Hampshire   56                     2    married   47966   \n",
       "3   Female  New Hampshire   56                     2    married   47966   \n",
       "6   Female  New Hampshire   56                     2    married   47966   \n",
       "10  Female        Wyoming   43                     2    married  142413   \n",
       "\n",
       "    product_id                             product_name  department_id  \\\n",
       "0           28                        Wheat Chex Cereal             14   \n",
       "2           25  Salted Caramel Lean Protein & Fiber Bar             19   \n",
       "3           25  Salted Caramel Lean Protein & Fiber Bar             19   \n",
       "6           25  Salted Caramel Lean Protein & Fiber Bar             19   \n",
       "10          23                   Organic Turkey Burgers             12   \n",
       "\n",
       "    prices  ...    price_range_loc  max_order    loyalty_flag     Region  \\\n",
       "0     10.1  ...  Mid-range product          3    New customer  Northeast   \n",
       "2      1.9  ...  Low-range product         93  Loyal customer  Northeast   \n",
       "3      1.9  ...  Low-range product         93  Loyal customer  Northeast   \n",
       "6      1.9  ...  Low-range product         93  Loyal customer  Northeast   \n",
       "10     8.2  ...  Mid-range product         52  Loyal customer       West   \n",
       "\n",
       "   mean_prices  spending_flag     frequency_flag days_since_last_order  \\\n",
       "0     7.339130    Low spender  Frequent customer                   NaN   \n",
       "2     6.408088    Low spender  Frequent customer                   6.0   \n",
       "3     6.408088    Low spender  Frequent customer                   5.0   \n",
       "6     6.408088    Low spender  Frequent customer                   3.0   \n",
       "10    7.912150    Low spender  Frequent customer                  11.0   \n",
       "\n",
       "    reordered median_days_since_last_order  \n",
       "0           0                          8.0  \n",
       "2           0                          4.0  \n",
       "3           1                          4.0  \n",
       "6           1                          4.0  \n",
       "10          0                          7.0  \n",
       "\n",
       "[5 rows x 24 columns]"
      ]
     },
     "execution_count": 21,
     "metadata": {},
     "output_type": "execute_result"
    }
   ],
   "source": [
    "small.head()"
   ]
  },
  {
   "cell_type": "code",
   "execution_count": 22,
   "id": "fed9f594",
   "metadata": {},
   "outputs": [],
   "source": [
    "# Exporting sample\n",
    "small.to_pickle(os.path.join(path, '02 Data', 'Prepared Data', 'random_sample_profile.pkl'))"
   ]
  },
  {
   "cell_type": "code",
   "execution_count": 23,
   "id": "bc336d93",
   "metadata": {},
   "outputs": [],
   "source": [
    "df_dept = pd.read_csv(os.path.join(path, '02 Data', 'Prepared Data', 'departments_wrangled.csv'))"
   ]
  },
  {
   "cell_type": "code",
   "execution_count": 24,
   "id": "51dec1d1",
   "metadata": {},
   "outputs": [
    {
     "data": {
      "text/html": [
       "<div>\n",
       "<style scoped>\n",
       "    .dataframe tbody tr th:only-of-type {\n",
       "        vertical-align: middle;\n",
       "    }\n",
       "\n",
       "    .dataframe tbody tr th {\n",
       "        vertical-align: top;\n",
       "    }\n",
       "\n",
       "    .dataframe thead th {\n",
       "        text-align: right;\n",
       "    }\n",
       "</style>\n",
       "<table border=\"1\" class=\"dataframe\">\n",
       "  <thead>\n",
       "    <tr style=\"text-align: right;\">\n",
       "      <th></th>\n",
       "      <th>Unnamed: 0</th>\n",
       "      <th>department</th>\n",
       "    </tr>\n",
       "  </thead>\n",
       "  <tbody>\n",
       "    <tr>\n",
       "      <th>0</th>\n",
       "      <td>1</td>\n",
       "      <td>frozen</td>\n",
       "    </tr>\n",
       "    <tr>\n",
       "      <th>1</th>\n",
       "      <td>2</td>\n",
       "      <td>other</td>\n",
       "    </tr>\n",
       "    <tr>\n",
       "      <th>2</th>\n",
       "      <td>3</td>\n",
       "      <td>bakery</td>\n",
       "    </tr>\n",
       "    <tr>\n",
       "      <th>3</th>\n",
       "      <td>4</td>\n",
       "      <td>produce</td>\n",
       "    </tr>\n",
       "    <tr>\n",
       "      <th>4</th>\n",
       "      <td>5</td>\n",
       "      <td>alcohol</td>\n",
       "    </tr>\n",
       "    <tr>\n",
       "      <th>5</th>\n",
       "      <td>6</td>\n",
       "      <td>international</td>\n",
       "    </tr>\n",
       "    <tr>\n",
       "      <th>6</th>\n",
       "      <td>7</td>\n",
       "      <td>beverages</td>\n",
       "    </tr>\n",
       "    <tr>\n",
       "      <th>7</th>\n",
       "      <td>8</td>\n",
       "      <td>pets</td>\n",
       "    </tr>\n",
       "    <tr>\n",
       "      <th>8</th>\n",
       "      <td>9</td>\n",
       "      <td>dry goods pasta</td>\n",
       "    </tr>\n",
       "    <tr>\n",
       "      <th>9</th>\n",
       "      <td>10</td>\n",
       "      <td>bulk</td>\n",
       "    </tr>\n",
       "    <tr>\n",
       "      <th>10</th>\n",
       "      <td>11</td>\n",
       "      <td>personal care</td>\n",
       "    </tr>\n",
       "    <tr>\n",
       "      <th>11</th>\n",
       "      <td>12</td>\n",
       "      <td>meat seafood</td>\n",
       "    </tr>\n",
       "    <tr>\n",
       "      <th>12</th>\n",
       "      <td>13</td>\n",
       "      <td>pantry</td>\n",
       "    </tr>\n",
       "    <tr>\n",
       "      <th>13</th>\n",
       "      <td>14</td>\n",
       "      <td>breakfast</td>\n",
       "    </tr>\n",
       "    <tr>\n",
       "      <th>14</th>\n",
       "      <td>15</td>\n",
       "      <td>canned goods</td>\n",
       "    </tr>\n",
       "    <tr>\n",
       "      <th>15</th>\n",
       "      <td>16</td>\n",
       "      <td>dairy eggs</td>\n",
       "    </tr>\n",
       "    <tr>\n",
       "      <th>16</th>\n",
       "      <td>17</td>\n",
       "      <td>household</td>\n",
       "    </tr>\n",
       "    <tr>\n",
       "      <th>17</th>\n",
       "      <td>18</td>\n",
       "      <td>babies</td>\n",
       "    </tr>\n",
       "    <tr>\n",
       "      <th>18</th>\n",
       "      <td>19</td>\n",
       "      <td>snacks</td>\n",
       "    </tr>\n",
       "    <tr>\n",
       "      <th>19</th>\n",
       "      <td>20</td>\n",
       "      <td>deli</td>\n",
       "    </tr>\n",
       "    <tr>\n",
       "      <th>20</th>\n",
       "      <td>21</td>\n",
       "      <td>missing</td>\n",
       "    </tr>\n",
       "  </tbody>\n",
       "</table>\n",
       "</div>"
      ],
      "text/plain": [
       "    Unnamed: 0       department\n",
       "0            1           frozen\n",
       "1            2            other\n",
       "2            3           bakery\n",
       "3            4          produce\n",
       "4            5          alcohol\n",
       "5            6    international\n",
       "6            7        beverages\n",
       "7            8             pets\n",
       "8            9  dry goods pasta\n",
       "9           10             bulk\n",
       "10          11    personal care\n",
       "11          12     meat seafood\n",
       "12          13           pantry\n",
       "13          14        breakfast\n",
       "14          15     canned goods\n",
       "15          16       dairy eggs\n",
       "16          17        household\n",
       "17          18           babies\n",
       "18          19           snacks\n",
       "19          20             deli\n",
       "20          21          missing"
      ]
     },
     "execution_count": 24,
     "metadata": {},
     "output_type": "execute_result"
    }
   ],
   "source": [
    "df_dept"
   ]
  },
  {
   "cell_type": "code",
   "execution_count": 25,
   "id": "d44bb012",
   "metadata": {},
   "outputs": [],
   "source": [
    "df_dept.rename(columns = {'Unnamed: 0' : 'department_id'}, inplace = True)"
   ]
  },
  {
   "cell_type": "code",
   "execution_count": 26,
   "id": "b88ce47a",
   "metadata": {},
   "outputs": [
    {
     "data": {
      "text/html": [
       "<div>\n",
       "<style scoped>\n",
       "    .dataframe tbody tr th:only-of-type {\n",
       "        vertical-align: middle;\n",
       "    }\n",
       "\n",
       "    .dataframe tbody tr th {\n",
       "        vertical-align: top;\n",
       "    }\n",
       "\n",
       "    .dataframe thead th {\n",
       "        text-align: right;\n",
       "    }\n",
       "</style>\n",
       "<table border=\"1\" class=\"dataframe\">\n",
       "  <thead>\n",
       "    <tr style=\"text-align: right;\">\n",
       "      <th></th>\n",
       "      <th>department_id</th>\n",
       "      <th>department</th>\n",
       "    </tr>\n",
       "  </thead>\n",
       "  <tbody>\n",
       "    <tr>\n",
       "      <th>0</th>\n",
       "      <td>1</td>\n",
       "      <td>frozen</td>\n",
       "    </tr>\n",
       "    <tr>\n",
       "      <th>1</th>\n",
       "      <td>2</td>\n",
       "      <td>other</td>\n",
       "    </tr>\n",
       "    <tr>\n",
       "      <th>2</th>\n",
       "      <td>3</td>\n",
       "      <td>bakery</td>\n",
       "    </tr>\n",
       "    <tr>\n",
       "      <th>3</th>\n",
       "      <td>4</td>\n",
       "      <td>produce</td>\n",
       "    </tr>\n",
       "    <tr>\n",
       "      <th>4</th>\n",
       "      <td>5</td>\n",
       "      <td>alcohol</td>\n",
       "    </tr>\n",
       "    <tr>\n",
       "      <th>5</th>\n",
       "      <td>6</td>\n",
       "      <td>international</td>\n",
       "    </tr>\n",
       "    <tr>\n",
       "      <th>6</th>\n",
       "      <td>7</td>\n",
       "      <td>beverages</td>\n",
       "    </tr>\n",
       "    <tr>\n",
       "      <th>7</th>\n",
       "      <td>8</td>\n",
       "      <td>pets</td>\n",
       "    </tr>\n",
       "    <tr>\n",
       "      <th>8</th>\n",
       "      <td>9</td>\n",
       "      <td>dry goods pasta</td>\n",
       "    </tr>\n",
       "    <tr>\n",
       "      <th>9</th>\n",
       "      <td>10</td>\n",
       "      <td>bulk</td>\n",
       "    </tr>\n",
       "    <tr>\n",
       "      <th>10</th>\n",
       "      <td>11</td>\n",
       "      <td>personal care</td>\n",
       "    </tr>\n",
       "    <tr>\n",
       "      <th>11</th>\n",
       "      <td>12</td>\n",
       "      <td>meat seafood</td>\n",
       "    </tr>\n",
       "    <tr>\n",
       "      <th>12</th>\n",
       "      <td>13</td>\n",
       "      <td>pantry</td>\n",
       "    </tr>\n",
       "    <tr>\n",
       "      <th>13</th>\n",
       "      <td>14</td>\n",
       "      <td>breakfast</td>\n",
       "    </tr>\n",
       "    <tr>\n",
       "      <th>14</th>\n",
       "      <td>15</td>\n",
       "      <td>canned goods</td>\n",
       "    </tr>\n",
       "    <tr>\n",
       "      <th>15</th>\n",
       "      <td>16</td>\n",
       "      <td>dairy eggs</td>\n",
       "    </tr>\n",
       "    <tr>\n",
       "      <th>16</th>\n",
       "      <td>17</td>\n",
       "      <td>household</td>\n",
       "    </tr>\n",
       "    <tr>\n",
       "      <th>17</th>\n",
       "      <td>18</td>\n",
       "      <td>babies</td>\n",
       "    </tr>\n",
       "    <tr>\n",
       "      <th>18</th>\n",
       "      <td>19</td>\n",
       "      <td>snacks</td>\n",
       "    </tr>\n",
       "    <tr>\n",
       "      <th>19</th>\n",
       "      <td>20</td>\n",
       "      <td>deli</td>\n",
       "    </tr>\n",
       "    <tr>\n",
       "      <th>20</th>\n",
       "      <td>21</td>\n",
       "      <td>missing</td>\n",
       "    </tr>\n",
       "  </tbody>\n",
       "</table>\n",
       "</div>"
      ],
      "text/plain": [
       "    department_id       department\n",
       "0               1           frozen\n",
       "1               2            other\n",
       "2               3           bakery\n",
       "3               4          produce\n",
       "4               5          alcohol\n",
       "5               6    international\n",
       "6               7        beverages\n",
       "7               8             pets\n",
       "8               9  dry goods pasta\n",
       "9              10             bulk\n",
       "10             11    personal care\n",
       "11             12     meat seafood\n",
       "12             13           pantry\n",
       "13             14        breakfast\n",
       "14             15     canned goods\n",
       "15             16       dairy eggs\n",
       "16             17        household\n",
       "17             18           babies\n",
       "18             19           snacks\n",
       "19             20             deli\n",
       "20             21          missing"
      ]
     },
     "execution_count": 26,
     "metadata": {},
     "output_type": "execute_result"
    }
   ],
   "source": [
    "df_dept"
   ]
  },
  {
   "cell_type": "code",
   "execution_count": 27,
   "id": "742a64f5",
   "metadata": {},
   "outputs": [],
   "source": [
    "small_merge = small.merge(df_dept, on = 'department_id')"
   ]
  },
  {
   "cell_type": "code",
   "execution_count": 28,
   "id": "4362a126",
   "metadata": {},
   "outputs": [
    {
     "data": {
      "text/html": [
       "<div>\n",
       "<style scoped>\n",
       "    .dataframe tbody tr th:only-of-type {\n",
       "        vertical-align: middle;\n",
       "    }\n",
       "\n",
       "    .dataframe tbody tr th {\n",
       "        vertical-align: top;\n",
       "    }\n",
       "\n",
       "    .dataframe thead th {\n",
       "        text-align: right;\n",
       "    }\n",
       "</style>\n",
       "<table border=\"1\" class=\"dataframe\">\n",
       "  <thead>\n",
       "    <tr style=\"text-align: right;\">\n",
       "      <th></th>\n",
       "      <th>Gender</th>\n",
       "      <th>State</th>\n",
       "      <th>Age</th>\n",
       "      <th>number_of_dependents</th>\n",
       "      <th>fam_status</th>\n",
       "      <th>income</th>\n",
       "      <th>product_id</th>\n",
       "      <th>product_name</th>\n",
       "      <th>department_id</th>\n",
       "      <th>prices</th>\n",
       "      <th>...</th>\n",
       "      <th>max_order</th>\n",
       "      <th>loyalty_flag</th>\n",
       "      <th>Region</th>\n",
       "      <th>mean_prices</th>\n",
       "      <th>spending_flag</th>\n",
       "      <th>frequency_flag</th>\n",
       "      <th>days_since_last_order</th>\n",
       "      <th>reordered</th>\n",
       "      <th>median_days_since_last_order</th>\n",
       "      <th>department</th>\n",
       "    </tr>\n",
       "  </thead>\n",
       "  <tbody>\n",
       "    <tr>\n",
       "      <th>0</th>\n",
       "      <td>Female</td>\n",
       "      <td>Connecticut</td>\n",
       "      <td>80</td>\n",
       "      <td>1</td>\n",
       "      <td>married</td>\n",
       "      <td>166726</td>\n",
       "      <td>28</td>\n",
       "      <td>Wheat Chex Cereal</td>\n",
       "      <td>14</td>\n",
       "      <td>10.1</td>\n",
       "      <td>...</td>\n",
       "      <td>3</td>\n",
       "      <td>New customer</td>\n",
       "      <td>Northeast</td>\n",
       "      <td>7.339130</td>\n",
       "      <td>Low spender</td>\n",
       "      <td>Frequent customer</td>\n",
       "      <td>NaN</td>\n",
       "      <td>0</td>\n",
       "      <td>8.0</td>\n",
       "      <td>breakfast</td>\n",
       "    </tr>\n",
       "    <tr>\n",
       "      <th>1</th>\n",
       "      <td>Female</td>\n",
       "      <td>Arkansas</td>\n",
       "      <td>19</td>\n",
       "      <td>0</td>\n",
       "      <td>single</td>\n",
       "      <td>66582</td>\n",
       "      <td>28</td>\n",
       "      <td>Wheat Chex Cereal</td>\n",
       "      <td>14</td>\n",
       "      <td>10.1</td>\n",
       "      <td>...</td>\n",
       "      <td>6</td>\n",
       "      <td>New customer</td>\n",
       "      <td>South</td>\n",
       "      <td>7.603306</td>\n",
       "      <td>Low spender</td>\n",
       "      <td>Regular customer</td>\n",
       "      <td>6.0</td>\n",
       "      <td>0</td>\n",
       "      <td>12.0</td>\n",
       "      <td>breakfast</td>\n",
       "    </tr>\n",
       "    <tr>\n",
       "      <th>2</th>\n",
       "      <td>Female</td>\n",
       "      <td>Arkansas</td>\n",
       "      <td>19</td>\n",
       "      <td>0</td>\n",
       "      <td>single</td>\n",
       "      <td>66582</td>\n",
       "      <td>28</td>\n",
       "      <td>Wheat Chex Cereal</td>\n",
       "      <td>14</td>\n",
       "      <td>10.1</td>\n",
       "      <td>...</td>\n",
       "      <td>6</td>\n",
       "      <td>New customer</td>\n",
       "      <td>South</td>\n",
       "      <td>7.603306</td>\n",
       "      <td>Low spender</td>\n",
       "      <td>Regular customer</td>\n",
       "      <td>7.0</td>\n",
       "      <td>1</td>\n",
       "      <td>12.0</td>\n",
       "      <td>breakfast</td>\n",
       "    </tr>\n",
       "    <tr>\n",
       "      <th>3</th>\n",
       "      <td>Male</td>\n",
       "      <td>Iowa</td>\n",
       "      <td>68</td>\n",
       "      <td>0</td>\n",
       "      <td>divorced/widowed</td>\n",
       "      <td>135470</td>\n",
       "      <td>28</td>\n",
       "      <td>Wheat Chex Cereal</td>\n",
       "      <td>14</td>\n",
       "      <td>10.1</td>\n",
       "      <td>...</td>\n",
       "      <td>99</td>\n",
       "      <td>Loyal customer</td>\n",
       "      <td>Midwest</td>\n",
       "      <td>7.258438</td>\n",
       "      <td>Low spender</td>\n",
       "      <td>Frequent customer</td>\n",
       "      <td>4.0</td>\n",
       "      <td>0</td>\n",
       "      <td>3.0</td>\n",
       "      <td>breakfast</td>\n",
       "    </tr>\n",
       "    <tr>\n",
       "      <th>4</th>\n",
       "      <td>Male</td>\n",
       "      <td>Nebraska</td>\n",
       "      <td>58</td>\n",
       "      <td>3</td>\n",
       "      <td>married</td>\n",
       "      <td>119144</td>\n",
       "      <td>28</td>\n",
       "      <td>Wheat Chex Cereal</td>\n",
       "      <td>14</td>\n",
       "      <td>10.1</td>\n",
       "      <td>...</td>\n",
       "      <td>8</td>\n",
       "      <td>New customer</td>\n",
       "      <td>Midwest</td>\n",
       "      <td>9.718605</td>\n",
       "      <td>Low spender</td>\n",
       "      <td>Non-frequent customer</td>\n",
       "      <td>26.0</td>\n",
       "      <td>0</td>\n",
       "      <td>30.0</td>\n",
       "      <td>breakfast</td>\n",
       "    </tr>\n",
       "  </tbody>\n",
       "</table>\n",
       "<p>5 rows × 25 columns</p>\n",
       "</div>"
      ],
      "text/plain": [
       "   Gender        State  Age  number_of_dependents        fam_status  income  \\\n",
       "0  Female  Connecticut   80                     1           married  166726   \n",
       "1  Female     Arkansas   19                     0            single   66582   \n",
       "2  Female     Arkansas   19                     0            single   66582   \n",
       "3    Male         Iowa   68                     0  divorced/widowed  135470   \n",
       "4    Male     Nebraska   58                     3           married  119144   \n",
       "\n",
       "   product_id       product_name  department_id  prices  ...  max_order  \\\n",
       "0          28  Wheat Chex Cereal             14    10.1  ...          3   \n",
       "1          28  Wheat Chex Cereal             14    10.1  ...          6   \n",
       "2          28  Wheat Chex Cereal             14    10.1  ...          6   \n",
       "3          28  Wheat Chex Cereal             14    10.1  ...         99   \n",
       "4          28  Wheat Chex Cereal             14    10.1  ...          8   \n",
       "\n",
       "     loyalty_flag     Region  mean_prices spending_flag  \\\n",
       "0    New customer  Northeast     7.339130   Low spender   \n",
       "1    New customer      South     7.603306   Low spender   \n",
       "2    New customer      South     7.603306   Low spender   \n",
       "3  Loyal customer    Midwest     7.258438   Low spender   \n",
       "4    New customer    Midwest     9.718605   Low spender   \n",
       "\n",
       "          frequency_flag days_since_last_order reordered  \\\n",
       "0      Frequent customer                   NaN         0   \n",
       "1       Regular customer                   6.0         0   \n",
       "2       Regular customer                   7.0         1   \n",
       "3      Frequent customer                   4.0         0   \n",
       "4  Non-frequent customer                  26.0         0   \n",
       "\n",
       "   median_days_since_last_order department  \n",
       "0                           8.0  breakfast  \n",
       "1                          12.0  breakfast  \n",
       "2                          12.0  breakfast  \n",
       "3                           3.0  breakfast  \n",
       "4                          30.0  breakfast  \n",
       "\n",
       "[5 rows x 25 columns]"
      ]
     },
     "execution_count": 28,
     "metadata": {},
     "output_type": "execute_result"
    }
   ],
   "source": [
    "small_merge.head()"
   ]
  },
  {
   "cell_type": "markdown",
   "id": "83feaf6d",
   "metadata": {},
   "source": [
    "# Step 6"
   ]
  },
  {
   "cell_type": "code",
   "execution_count": 29,
   "id": "4c10e199",
   "metadata": {},
   "outputs": [
    {
     "data": {
      "text/plain": [
       "18"
      ]
     },
     "execution_count": 29,
     "metadata": {},
     "output_type": "execute_result"
    }
   ],
   "source": [
    "# Checking minimum and maximum age\n",
    "small_merge['Age'].min()"
   ]
  },
  {
   "cell_type": "code",
   "execution_count": 30,
   "id": "5a17ec67",
   "metadata": {},
   "outputs": [
    {
     "data": {
      "text/plain": [
       "81"
      ]
     },
     "execution_count": 30,
     "metadata": {},
     "output_type": "execute_result"
    }
   ],
   "source": [
    "small_merge['Age'].max()"
   ]
  },
  {
   "cell_type": "code",
   "execution_count": 31,
   "id": "b934a333",
   "metadata": {},
   "outputs": [],
   "source": [
    "# Define age groups"
   ]
  },
  {
   "cell_type": "code",
   "execution_count": 32,
   "id": "1f693838",
   "metadata": {},
   "outputs": [],
   "source": [
    "# Group 1 = Ages 18-30\n",
    "small_merge.loc[(small_merge['Age'] >= 18) & (small_merge['Age'] <= 30), 'age_group'] = 'Young adult'"
   ]
  },
  {
   "cell_type": "code",
   "execution_count": 33,
   "id": "c6b009c6",
   "metadata": {},
   "outputs": [],
   "source": [
    "# Group 2 = Ages 31-45\n",
    "small_merge.loc[(small_merge['Age'] >= 31) & (small['Age'] <= 45), 'age_group'] = 'Adult'"
   ]
  },
  {
   "cell_type": "code",
   "execution_count": 34,
   "id": "f05b43ef",
   "metadata": {},
   "outputs": [],
   "source": [
    "# Group 3 = Ages 46-60\n",
    "small_merge.loc[(small_merge['Age'] >= 46) & (small_merge['Age'] <= 60), 'age_group'] = 'Middle-Aged Adult'"
   ]
  },
  {
   "cell_type": "code",
   "execution_count": 35,
   "id": "80ff9d6c",
   "metadata": {},
   "outputs": [],
   "source": [
    "# Group 4 = Ages 61-70\n",
    "small_merge.loc[(small_merge['Age'] >= 61) & (small_merge['Age'] <= 70), 'age_group'] = 'Older Adult'"
   ]
  },
  {
   "cell_type": "code",
   "execution_count": 36,
   "id": "62dc5527",
   "metadata": {},
   "outputs": [],
   "source": [
    "# Group 5 = Ages 71-81\n",
    "small_merge.loc[(small_merge['Age'] >= 71) & (small_merge['Age'] <= 81), 'age_group'] = 'Senior'"
   ]
  },
  {
   "cell_type": "code",
   "execution_count": 37,
   "id": "ab6b1e22",
   "metadata": {},
   "outputs": [
    {
     "data": {
      "text/plain": [
       "age_group\n",
       "Middle-Aged Adult    2232944\n",
       "nan                  1941017\n",
       "Young adult          1934171\n",
       "Senior               1633129\n",
       "Older Adult          1466113\n",
       "Adult                 284513\n",
       "Name: count, dtype: int64"
      ]
     },
     "execution_count": 37,
     "metadata": {},
     "output_type": "execute_result"
    }
   ],
   "source": [
    "# Check output\n",
    "small_merge['age_group'].value_counts(dropna = True)"
   ]
  },
  {
   "cell_type": "markdown",
   "id": "a644859d",
   "metadata": {},
   "source": [
    "# Creating income groups"
   ]
  },
  {
   "cell_type": "code",
   "execution_count": 38,
   "id": "09bfbdd3",
   "metadata": {},
   "outputs": [
    {
     "data": {
      "text/plain": [
       "25903"
      ]
     },
     "execution_count": 38,
     "metadata": {},
     "output_type": "execute_result"
    }
   ],
   "source": [
    "# Checking maximun and minimum\n",
    "small_merge['income'].min()"
   ]
  },
  {
   "cell_type": "code",
   "execution_count": 39,
   "id": "8ee3a855",
   "metadata": {},
   "outputs": [
    {
     "data": {
      "text/plain": [
       "593901"
      ]
     },
     "execution_count": 39,
     "metadata": {},
     "output_type": "execute_result"
    }
   ],
   "source": [
    "small_merge['income'].max()"
   ]
  },
  {
   "cell_type": "code",
   "execution_count": 40,
   "id": "ddbe36b3",
   "metadata": {},
   "outputs": [
    {
     "data": {
      "text/plain": [
       "99508.68805296565"
      ]
     },
     "execution_count": 40,
     "metadata": {},
     "output_type": "execute_result"
    }
   ],
   "source": [
    "small_merge['income'].mean()"
   ]
  },
  {
   "cell_type": "code",
   "execution_count": 41,
   "id": "d16847c3",
   "metadata": {},
   "outputs": [],
   "source": [
    "# Create groups based off income"
   ]
  },
  {
   "cell_type": "code",
   "execution_count": 42,
   "id": "fca6f2d0",
   "metadata": {},
   "outputs": [],
   "source": [
    "# Low Income = Income less than 50,000\n",
    "small_merge.loc[small_merge['income'] < 50000,'income_group'] = 'Low Income'"
   ]
  },
  {
   "cell_type": "code",
   "execution_count": 43,
   "id": "d3d2700d",
   "metadata": {},
   "outputs": [],
   "source": [
    "# Mid Income = Income equal to or greater than 50,000 & less than 100,000\n",
    "small_merge.loc[(small_merge['income'] >= 50000) & (small_merge['income'] < 100000),'income_group'] = 'Mid Income'"
   ]
  },
  {
   "cell_type": "code",
   "execution_count": 44,
   "id": "2ac107d6",
   "metadata": {},
   "outputs": [],
   "source": [
    "# High Income = Income greater than or equal to 100,000\n",
    "small_merge.loc[small_merge['income'] >= 100000, 'income_group'] = 'High Income'"
   ]
  },
  {
   "cell_type": "code",
   "execution_count": 45,
   "id": "12566673",
   "metadata": {},
   "outputs": [
    {
     "data": {
      "text/plain": [
       "income_group\n",
       "High Income    4344702\n",
       "Mid Income     4102235\n",
       "Low Income     1044950\n",
       "Name: count, dtype: int64"
      ]
     },
     "execution_count": 45,
     "metadata": {},
     "output_type": "execute_result"
    }
   ],
   "source": [
    "# Check output\n",
    "small_merge['income_group'].value_counts(dropna = False)"
   ]
  },
  {
   "cell_type": "markdown",
   "id": "980d6266",
   "metadata": {},
   "source": [
    "# Creating groups based off dependants"
   ]
  },
  {
   "cell_type": "code",
   "execution_count": 46,
   "id": "9861f29a",
   "metadata": {},
   "outputs": [
    {
     "data": {
      "text/plain": [
       "0"
      ]
     },
     "execution_count": 46,
     "metadata": {},
     "output_type": "execute_result"
    }
   ],
   "source": [
    "# Checking maximum and minimum amount of dependants\n",
    "small_merge['number_of_dependents'].min()"
   ]
  },
  {
   "cell_type": "code",
   "execution_count": 47,
   "id": "32023bdb",
   "metadata": {},
   "outputs": [
    {
     "data": {
      "text/plain": [
       "3"
      ]
     },
     "execution_count": 47,
     "metadata": {},
     "output_type": "execute_result"
    }
   ],
   "source": [
    "small_merge['number_of_dependents'].max()"
   ]
  },
  {
   "cell_type": "code",
   "execution_count": 48,
   "id": "6253ecb1",
   "metadata": {},
   "outputs": [],
   "source": [
    "# Creating groups to determine if someone does or does not have dependants"
   ]
  },
  {
   "cell_type": "code",
   "execution_count": 49,
   "id": "1074c7d5",
   "metadata": {},
   "outputs": [],
   "source": [
    "small_merge.loc[small_merge['number_of_dependents'] == 0,'dependants_group'] = 'No Dependants'"
   ]
  },
  {
   "cell_type": "code",
   "execution_count": 50,
   "id": "301ad637",
   "metadata": {},
   "outputs": [],
   "source": [
    "small_merge.loc[small_merge['number_of_dependents'] >= 1,'dependants_group'] = 'Has Dependants'"
   ]
  },
  {
   "cell_type": "code",
   "execution_count": 51,
   "id": "cb8ac515",
   "metadata": {},
   "outputs": [
    {
     "data": {
      "text/plain": [
       "dependants_group\n",
       "Has Dependants    7120913\n",
       "No Dependants     2370974\n",
       "Name: count, dtype: int64"
      ]
     },
     "execution_count": 51,
     "metadata": {},
     "output_type": "execute_result"
    }
   ],
   "source": [
    "small_merge['dependants_group'].value_counts(dropna = False)"
   ]
  },
  {
   "cell_type": "code",
   "execution_count": 52,
   "id": "68836d9e",
   "metadata": {},
   "outputs": [
    {
     "data": {
      "text/plain": [
       "fam_status\n",
       "married                             6666620\n",
       "single                              1559109\n",
       "divorced/widowed                     811865\n",
       "living with parents and siblings     454293\n",
       "Name: count, dtype: int64"
      ]
     },
     "execution_count": 52,
     "metadata": {},
     "output_type": "execute_result"
    }
   ],
   "source": [
    "# Checking fam status\n",
    "small_merge['fam_status'].value_counts(dropna = False)"
   ]
  },
  {
   "cell_type": "markdown",
   "id": "63c20471",
   "metadata": {},
   "source": [
    "# Creating Customer Profile"
   ]
  },
  {
   "cell_type": "code",
   "execution_count": 53,
   "id": "388c60af",
   "metadata": {},
   "outputs": [
    {
     "data": {
      "text/plain": [
       "age_income_profile\n",
       "High Income Middle-Aged Adult    1552189\n",
       "High Income Senior               1141197\n",
       "High Income Older Adult          1023135\n",
       "Mid Income Middle-Aged Adult      489344\n",
       "Mid Income Senior                 355475\n",
       "Mid Income Older Adult            319402\n",
       "Low Income Middle-Aged Adult      191411\n",
       "Mid Income Adult                  174623\n",
       "Low Income Senior                 136457\n",
       "Low Income Older Adult            123576\n",
       "High Income Adult                  72891\n",
       "Low Income Adult                   36999\n",
       "Name: count, dtype: int64"
      ]
     },
     "execution_count": 53,
     "metadata": {},
     "output_type": "execute_result"
    }
   ],
   "source": [
    "# Creating customer profile 1 based off income and age group\n",
    "\n",
    "#Group 1 = Low Income Young Adult\n",
    "\n",
    "small_merge.loc[(small_merge['age_group']== 'Young Adult') & (small_merge['income_group']=='Low Income'), 'age_income_profile'] = 'Low Income Young Adult'\n",
    "\n",
    "# Group 2 = Low Income Adult\n",
    "\n",
    "small_merge.loc[(small_merge['age_group']== 'Adult') & (small_merge['income_group']=='Low Income'), 'age_income_profile'] = 'Low Income Adult'\n",
    "\n",
    "# Group 3 = Low Income Middle-Aged Adult\n",
    "\n",
    "small_merge.loc[(small_merge['age_group']== 'Middle-Aged Adult') & (small_merge['income_group']=='Low Income'), 'age_income_profile'] = 'Low Income Middle-Aged Adult'\n",
    "\n",
    "# Group 4 = Low Income Older Adult\n",
    "\n",
    "small_merge.loc[(small_merge['age_group']== 'Older Adult') & (small_merge['income_group']=='Low Income'), 'age_income_profile'] = 'Low Income Older Adult'\n",
    "\n",
    "# Group 5 = Low Income Senior\n",
    "\n",
    "small_merge.loc[(small_merge['age_group']== 'Senior') & (small_merge['income_group']=='Low Income'), 'age_income_profile'] = 'Low Income Senior'\n",
    "\n",
    "# Group 6 = Mid Income Young Adult\n",
    "\n",
    "small_merge.loc[(small_merge['age_group']== 'Young Adult') & (small_merge['income_group']=='Mid Income'), 'age_income_profile'] = 'Mid Income Young Adult'\n",
    "\n",
    "# Group 7 = Mid Income Adult\n",
    "\n",
    "small_merge.loc[(small_merge['age_group']== 'Adult') & (small_merge['income_group']=='Mid Income'), 'age_income_profile'] = 'Mid Income Adult'\n",
    "\n",
    "# Group 8 = Mid Income Middle-Aged Adult\n",
    "\n",
    "small_merge.loc[(small_merge['age_group']== 'Middle-Aged Adult') & (small_merge['income_group']=='Mid Income'), 'age_income_profile'] = 'Mid Income Middle-Aged Adult'\n",
    "\n",
    "# Group 9 = Mid Income Older Adult\n",
    "\n",
    "small_merge.loc[(small_merge['age_group']== 'Older Adult') & (small_merge['income_group']=='Mid Income'), 'age_income_profile'] = 'Mid Income Older Adult'\n",
    "\n",
    "# Group 10 = Mid Income Senior\n",
    "\n",
    "small_merge.loc[(small_merge['age_group']== 'Senior') & (small_merge['income_group']=='Mid Income'), 'age_income_profile'] = 'Mid Income Senior'\n",
    "\n",
    "# Group 11 = High Income Young Adult\n",
    "\n",
    "small_merge.loc[(small_merge['age_group']== 'Young Adult') & (small_merge['income_group']=='High Income'), 'age_income_profile'] = 'High Income Young Adult'\n",
    "\n",
    "# Group 12 = High Income Adult\n",
    "\n",
    "small_merge.loc[(small_merge['age_group']== 'Adult') & (small_merge['income_group']=='High Income'), 'age_income_profile'] = 'High Income Adult'\n",
    "\n",
    "# Group 13 = High Income Middle-Aged Adult\n",
    "\n",
    "small_merge.loc[(small_merge['age_group']== 'Middle-Aged Adult') & (small_merge['income_group']=='High Income'), 'age_income_profile'] = 'High Income Middle-Aged Adult'\n",
    "\n",
    "# Group 14 = High Income Older Adult\n",
    "\n",
    "small_merge.loc[(small_merge['age_group']== 'Older Adult') & (small_merge['income_group']=='High Income'), 'age_income_profile'] = 'High Income Older Adult'\n",
    "\n",
    "# Group 15 = High Income Senior\n",
    "\n",
    "small_merge.loc[(small_merge['age_group']== 'Senior') & (small_merge['income_group']=='High Income'), 'age_income_profile'] = 'High Income Senior'\n",
    "\n",
    "# Check Results\n",
    "\n",
    "filtered_small = small_merge[small_merge['age_income_profile'] != 'nan']\n",
    "\n",
    "filtered_small['age_income_profile'].value_counts(dropna = False)\n"
   ]
  },
  {
   "cell_type": "code",
   "execution_count": 54,
   "id": "b86bf67d",
   "metadata": {},
   "outputs": [
    {
     "data": {
      "text/plain": [
       "fam_dependants_profile\n",
       "Married w/ Dependants    6666620\n",
       "Single No Dependants     2370974\n",
       "Name: count, dtype: int64"
      ]
     },
     "execution_count": 54,
     "metadata": {},
     "output_type": "execute_result"
    }
   ],
   "source": [
    "# Creating customer profile 2 based on family status and dependants\n",
    "\n",
    "# Group 1 = Married No Dependants\n",
    "\n",
    "small_merge.loc[(small_merge['fam_status']== 'married') & (small_merge['dependants_group']=='No Dependants'), 'fam_dependants_profile'] = 'Married No Dependants'\n",
    "\n",
    "# Group 2 = Married w/ Dependants\n",
    "\n",
    "small_merge.loc[(small_merge['fam_status']== 'married') & (small_merge['dependants_group']=='Has Dependants'), 'fam_dependants_profile'] = 'Married w/ Dependants'\n",
    "\n",
    "# Group 3 = Single No Dependants\n",
    "\n",
    "small_merge.loc[(small_merge['fam_status'].isin(['single', 'divorced/widowed'])) & (small_merge['dependants_group']=='No Dependants'), 'fam_dependants_profile'] = 'Single No Dependants'\n",
    "\n",
    "# Group 4 = Single w/ Dependants\n",
    "\n",
    "small_merge.loc[(small_merge['fam_status'].isin(['single', 'divorced/widowed'])) & (small_merge['dependants_group']=='Has Dependants'), 'fam_dependants_profile'] = 'Single w/ Dependants'\n",
    "\n",
    "# Check results\n",
    "filtered_small = small_merge[small_merge['fam_dependants_profile'] != 'nan']\n",
    "\n",
    "filtered_small['fam_dependants_profile'].value_counts(dropna = True)"
   ]
  },
  {
   "cell_type": "code",
   "execution_count": 55,
   "id": "67690f0d",
   "metadata": {},
   "outputs": [
    {
     "data": {
      "text/plain": [
       "fam_age_profile\n",
       "Married Middle-Aged Adult    1675260\n",
       "Married Senior               1227242\n",
       "Married Older Adult          1094610\n",
       "Single Middle-Aged Adult      557684\n",
       "Single Senior                 405887\n",
       "Single Older Adult            371503\n",
       "Married Adult                 213711\n",
       "Single Adult                   70802\n",
       "Name: count, dtype: int64"
      ]
     },
     "execution_count": 55,
     "metadata": {},
     "output_type": "execute_result"
    }
   ],
   "source": [
    " # Creating customer profile based on age and family status\n",
    "    \n",
    "# Group 1 = Single Young Adult\n",
    "\n",
    "small_merge.loc[(small_merge['age_group']== 'Young Adult') & (small_merge['fam_status'].isin(['single', 'divorced/widowed'])), 'fam_age_profile'] = 'Single Young Adult'\n",
    "\n",
    "# Group 2 = Single Adult\n",
    "\n",
    "small_merge.loc[(small_merge['age_group']== 'Adult') & (small_merge['fam_status'].isin(['single', 'divorced/widowed'])), 'fam_age_profile'] = 'Single Adult'\n",
    "\n",
    "# Group 3 = Single Middle-Aged Adult\n",
    "\n",
    "small_merge.loc[(small_merge['age_group']== 'Middle-Aged Adult') & (small_merge['fam_status'].isin(['single', 'divorced/widowed'])), 'fam_age_profile'] = 'Single Middle-Aged Adult'\n",
    "\n",
    "# Group 4 = Single Older Adult\n",
    "\n",
    "small_merge.loc[(small_merge['age_group']== 'Older Adult') & (small_merge['fam_status'].isin(['single', 'divorced/widowed'])), 'fam_age_profile'] = 'Single Older Adult'\n",
    "\n",
    "# Group 5 = Single Senior\n",
    "\n",
    "small_merge.loc[(small_merge['age_group']== 'Senior') & (small_merge['fam_status'].isin(['single', 'divorced/widowed'])), 'fam_age_profile'] = 'Single Senior'\n",
    "\n",
    "# Group 6 = Married Young Adult\n",
    "\n",
    "small_merge.loc[(small_merge['age_group']== 'Young Adult') & (small_merge['fam_status']== 'married'), 'fam_age_profile'] = 'Married Young Adult'\n",
    "\n",
    "# Group 7 = Married Adult\n",
    "\n",
    "small_merge.loc[(small_merge['age_group']== 'Adult') & (small_merge['fam_status']== 'married'), 'fam_age_profile'] = 'Married Adult'\n",
    "\n",
    "# Group 8 = Married Middle-Aged Adult\n",
    "\n",
    "small_merge.loc[(small_merge['age_group']== 'Middle-Aged Adult') & (small_merge['fam_status']== 'married'), 'fam_age_profile'] = 'Married Middle-Aged Adult'\n",
    "\n",
    "# Group 9 = Married Older Adult\n",
    "\n",
    "small_merge.loc[(small_merge['age_group']== 'Older Adult') & (small_merge['fam_status']== 'married'), 'fam_age_profile'] = 'Married Older Adult'\n",
    "\n",
    "# Group 10 = Married Senior\n",
    "\n",
    "small_merge.loc[(small_merge['age_group']== 'Senior') & (small_merge['fam_status']== 'married'), 'fam_age_profile'] = 'Married Senior'\n",
    "\n",
    "# Check Results\n",
    "filtered_small = small_merge[small_merge['fam_age_profile'] != 'nan']\n",
    "\n",
    "filtered_small['fam_age_profile'].value_counts(dropna = True)"
   ]
  },
  {
   "cell_type": "markdown",
   "id": "1c97a10c",
   "metadata": {},
   "source": [
    "# Profile Distribution Visualization"
   ]
  },
  {
   "cell_type": "code",
   "execution_count": 56,
   "id": "8d91e3cf",
   "metadata": {
    "scrolled": true
   },
   "outputs": [
    {
     "data": {
      "text/plain": [
       "age_income_profile\n",
       "High Income Adult                  72891\n",
       "High Income Middle-Aged Adult    1552189\n",
       "High Income Older Adult          1023135\n",
       "High Income Senior               1141197\n",
       "Low Income Adult                   36999\n",
       "Low Income Middle-Aged Adult      191411\n",
       "Low Income Older Adult            123576\n",
       "Low Income Senior                 136457\n",
       "Mid Income Adult                  174623\n",
       "Mid Income Middle-Aged Adult      489344\n",
       "Mid Income Older Adult            319402\n",
       "Mid Income Senior                 355475\n",
       "Name: count, dtype: int64"
      ]
     },
     "execution_count": 56,
     "metadata": {},
     "output_type": "execute_result"
    }
   ],
   "source": [
    "# Creating a bar chart to show distribution of age_income_profile\n",
    "filtered_small['age_income_profile'].value_counts().sort_index()"
   ]
  },
  {
   "cell_type": "code",
   "execution_count": 57,
   "id": "1e721144",
   "metadata": {},
   "outputs": [
    {
     "data": {
      "image/png": "[encoded data removed]",
      "text/plain": [
       "<Figure size 640x480 with 1 Axes>"
      ]
     },
     "metadata": {},
     "output_type": "display_data"
    }
   ],
   "source": [
    "age_income_bar = filtered_small['age_income_profile'].value_counts().plot.barh(title = 'Age/Income Profile', xlabel = 'Number of Customers', ylabel = 'Profile')\n",
    "\n",
    "age_income_bar.xaxis.set_major_formatter(plt.FuncFormatter(lambda y,pos: format(y/100000,'1.00f')+'K'))"
   ]
  },
  {
   "cell_type": "code",
   "execution_count": 58,
   "id": "8cd7ad34",
   "metadata": {},
   "outputs": [],
   "source": [
    "# Export chart\n",
    "age_income_bar.figure.savefig(os.path.join(path, '04 Analysis','Visualizations', 'age_income_profile.png'))"
   ]
  },
  {
   "cell_type": "code",
   "execution_count": 59,
   "id": "b41f9bb4",
   "metadata": {},
   "outputs": [
    {
     "data": {
      "image/png": "[encoded data removed]",
      "text/plain": [
       "<Figure size 640x480 with 1 Axes>"
      ]
     },
     "metadata": {},
     "output_type": "display_data"
    }
   ],
   "source": [
    "# Creating a bar chart to show the distribution of the fam_dependants_profile\n",
    "fam_dependants_profile = filtered_small['fam_dependants_profile'].value_counts().plot.barh(title = 'Fam Status/Dependants Profile', xlabel = 'Number of Customers', ylabel = 'Profile')\n",
    "\n",
    "fam_dependants_profile.xaxis.set_major_formatter(plt.FuncFormatter(lambda y,pos: format(y/100000,'1.00f')+'K'))"
   ]
  },
  {
   "cell_type": "code",
   "execution_count": 60,
   "id": "7350430c",
   "metadata": {},
   "outputs": [],
   "source": [
    "fam_dependants_profile.figure.savefig(os.path.join(path, '04 Analysis','Visualizations', 'fam_dependants_profile.png'))"
   ]
  },
  {
   "cell_type": "code",
   "execution_count": 61,
   "id": "a714ffa3",
   "metadata": {},
   "outputs": [
    {
     "data": {
      "image/png": "[encoded data removed]",
      "text/plain": [
       "<Figure size 640x480 with 1 Axes>"
      ]
     },
     "metadata": {},
     "output_type": "display_data"
    }
   ],
   "source": [
    "fam_age_bar = filtered_small['fam_age_profile'].value_counts().plot.barh(title = 'Fam Status/Age Profile', xlabel = 'Number of Customers', ylabel = 'Profile')\n",
    "\n",
    "fam_age_bar.xaxis.set_major_formatter(plt.FuncFormatter(lambda y,pos: format(y/100000,'1.00f')+'K'))"
   ]
  },
  {
   "cell_type": "code",
   "execution_count": 62,
   "id": "bf7e920c",
   "metadata": {},
   "outputs": [],
   "source": [
    "fam_age_bar.figure.savefig(os.path.join(path, '04 Analysis','Visualizations', 'fam_age_profile.png'))"
   ]
  },
  {
   "cell_type": "markdown",
   "id": "e9241ecb",
   "metadata": {},
   "source": [
    "# Aggregating Customer Profiles "
   ]
  },
  {
   "cell_type": "code",
   "execution_count": 63,
   "id": "7e2c48a2",
   "metadata": {},
   "outputs": [
    {
     "data": {
      "text/html": [
       "<div>\n",
       "<style scoped>\n",
       "    .dataframe tbody tr th:only-of-type {\n",
       "        vertical-align: middle;\n",
       "    }\n",
       "\n",
       "    .dataframe tbody tr th {\n",
       "        vertical-align: top;\n",
       "    }\n",
       "\n",
       "    .dataframe thead tr th {\n",
       "        text-align: left;\n",
       "    }\n",
       "\n",
       "    .dataframe thead tr:last-of-type th {\n",
       "        text-align: right;\n",
       "    }\n",
       "</style>\n",
       "<table border=\"1\" class=\"dataframe\">\n",
       "  <thead>\n",
       "    <tr>\n",
       "      <th></th>\n",
       "      <th colspan=\"3\" halign=\"left\">number_of_orders</th>\n",
       "    </tr>\n",
       "    <tr>\n",
       "      <th></th>\n",
       "      <th>mean</th>\n",
       "      <th>min</th>\n",
       "      <th>max</th>\n",
       "    </tr>\n",
       "    <tr>\n",
       "      <th>age_income_profile</th>\n",
       "      <th></th>\n",
       "      <th></th>\n",
       "      <th></th>\n",
       "    </tr>\n",
       "  </thead>\n",
       "  <tbody>\n",
       "    <tr>\n",
       "      <th>High Income Adult</th>\n",
       "      <td>17.673732</td>\n",
       "      <td>1</td>\n",
       "      <td>99</td>\n",
       "    </tr>\n",
       "    <tr>\n",
       "      <th>High Income Middle-Aged Adult</th>\n",
       "      <td>17.515192</td>\n",
       "      <td>1</td>\n",
       "      <td>99</td>\n",
       "    </tr>\n",
       "    <tr>\n",
       "      <th>High Income Older Adult</th>\n",
       "      <td>17.788563</td>\n",
       "      <td>1</td>\n",
       "      <td>99</td>\n",
       "    </tr>\n",
       "    <tr>\n",
       "      <th>High Income Senior</th>\n",
       "      <td>17.544976</td>\n",
       "      <td>1</td>\n",
       "      <td>99</td>\n",
       "    </tr>\n",
       "    <tr>\n",
       "      <th>Low Income Adult</th>\n",
       "      <td>16.289954</td>\n",
       "      <td>1</td>\n",
       "      <td>99</td>\n",
       "    </tr>\n",
       "    <tr>\n",
       "      <th>Low Income Middle-Aged Adult</th>\n",
       "      <td>16.787248</td>\n",
       "      <td>1</td>\n",
       "      <td>99</td>\n",
       "    </tr>\n",
       "    <tr>\n",
       "      <th>Low Income Older Adult</th>\n",
       "      <td>16.217210</td>\n",
       "      <td>1</td>\n",
       "      <td>99</td>\n",
       "    </tr>\n",
       "    <tr>\n",
       "      <th>Low Income Senior</th>\n",
       "      <td>16.482511</td>\n",
       "      <td>1</td>\n",
       "      <td>99</td>\n",
       "    </tr>\n",
       "    <tr>\n",
       "      <th>Mid Income Adult</th>\n",
       "      <td>17.776908</td>\n",
       "      <td>1</td>\n",
       "      <td>99</td>\n",
       "    </tr>\n",
       "    <tr>\n",
       "      <th>Mid Income Middle-Aged Adult</th>\n",
       "      <td>17.815404</td>\n",
       "      <td>1</td>\n",
       "      <td>99</td>\n",
       "    </tr>\n",
       "    <tr>\n",
       "      <th>Mid Income Older Adult</th>\n",
       "      <td>16.996456</td>\n",
       "      <td>1</td>\n",
       "      <td>99</td>\n",
       "    </tr>\n",
       "    <tr>\n",
       "      <th>Mid Income Senior</th>\n",
       "      <td>17.594855</td>\n",
       "      <td>1</td>\n",
       "      <td>99</td>\n",
       "    </tr>\n",
       "  </tbody>\n",
       "</table>\n",
       "</div>"
      ],
      "text/plain": [
       "                              number_of_orders        \n",
       "                                          mean min max\n",
       "age_income_profile                                    \n",
       "High Income Adult                    17.673732   1  99\n",
       "High Income Middle-Aged Adult        17.515192   1  99\n",
       "High Income Older Adult              17.788563   1  99\n",
       "High Income Senior                   17.544976   1  99\n",
       "Low Income Adult                     16.289954   1  99\n",
       "Low Income Middle-Aged Adult         16.787248   1  99\n",
       "Low Income Older Adult               16.217210   1  99\n",
       "Low Income Senior                    16.482511   1  99\n",
       "Mid Income Adult                     17.776908   1  99\n",
       "Mid Income Middle-Aged Adult         17.815404   1  99\n",
       "Mid Income Older Adult               16.996456   1  99\n",
       "Mid Income Senior                    17.594855   1  99"
      ]
     },
     "execution_count": 63,
     "metadata": {},
     "output_type": "execute_result"
    }
   ],
   "source": [
    "# Aggregating mean, min, and max for age income profile and number of orders\n",
    "\n",
    "filtered_small.groupby('age_income_profile').agg({'number_of_orders': ['mean', 'min', 'max']})"
   ]
  },
  {
   "cell_type": "code",
   "execution_count": 64,
   "id": "5f7cdd15",
   "metadata": {},
   "outputs": [
    {
     "data": {
      "text/html": [
       "<div>\n",
       "<style scoped>\n",
       "    .dataframe tbody tr th:only-of-type {\n",
       "        vertical-align: middle;\n",
       "    }\n",
       "\n",
       "    .dataframe tbody tr th {\n",
       "        vertical-align: top;\n",
       "    }\n",
       "\n",
       "    .dataframe thead tr th {\n",
       "        text-align: left;\n",
       "    }\n",
       "\n",
       "    .dataframe thead tr:last-of-type th {\n",
       "        text-align: right;\n",
       "    }\n",
       "</style>\n",
       "<table border=\"1\" class=\"dataframe\">\n",
       "  <thead>\n",
       "    <tr>\n",
       "      <th></th>\n",
       "      <th colspan=\"3\" halign=\"left\">prices</th>\n",
       "    </tr>\n",
       "    <tr>\n",
       "      <th></th>\n",
       "      <th>mean</th>\n",
       "      <th>min</th>\n",
       "      <th>max</th>\n",
       "    </tr>\n",
       "    <tr>\n",
       "      <th>age_income_profile</th>\n",
       "      <th></th>\n",
       "      <th></th>\n",
       "      <th></th>\n",
       "    </tr>\n",
       "  </thead>\n",
       "  <tbody>\n",
       "    <tr>\n",
       "      <th>High Income Adult</th>\n",
       "      <td>24.331543</td>\n",
       "      <td>1.0</td>\n",
       "      <td>99999.0</td>\n",
       "    </tr>\n",
       "    <tr>\n",
       "      <th>High Income Middle-Aged Adult</th>\n",
       "      <td>13.862041</td>\n",
       "      <td>1.0</td>\n",
       "      <td>99999.0</td>\n",
       "    </tr>\n",
       "    <tr>\n",
       "      <th>High Income Older Adult</th>\n",
       "      <td>13.521260</td>\n",
       "      <td>1.0</td>\n",
       "      <td>99999.0</td>\n",
       "    </tr>\n",
       "    <tr>\n",
       "      <th>High Income Senior</th>\n",
       "      <td>13.131265</td>\n",
       "      <td>1.0</td>\n",
       "      <td>99999.0</td>\n",
       "    </tr>\n",
       "    <tr>\n",
       "      <th>Low Income Adult</th>\n",
       "      <td>6.846439</td>\n",
       "      <td>1.0</td>\n",
       "      <td>25.0</td>\n",
       "    </tr>\n",
       "    <tr>\n",
       "      <th>Low Income Middle-Aged Adult</th>\n",
       "      <td>6.494197</td>\n",
       "      <td>1.0</td>\n",
       "      <td>25.0</td>\n",
       "    </tr>\n",
       "    <tr>\n",
       "      <th>Low Income Older Adult</th>\n",
       "      <td>6.521283</td>\n",
       "      <td>1.0</td>\n",
       "      <td>25.0</td>\n",
       "    </tr>\n",
       "    <tr>\n",
       "      <th>Low Income Senior</th>\n",
       "      <td>6.542942</td>\n",
       "      <td>1.0</td>\n",
       "      <td>25.0</td>\n",
       "    </tr>\n",
       "    <tr>\n",
       "      <th>Mid Income Adult</th>\n",
       "      <td>8.594765</td>\n",
       "      <td>1.0</td>\n",
       "      <td>99999.0</td>\n",
       "    </tr>\n",
       "    <tr>\n",
       "      <th>Mid Income Middle-Aged Adult</th>\n",
       "      <td>8.801072</td>\n",
       "      <td>1.0</td>\n",
       "      <td>99999.0</td>\n",
       "    </tr>\n",
       "    <tr>\n",
       "      <th>Mid Income Older Adult</th>\n",
       "      <td>8.661872</td>\n",
       "      <td>1.0</td>\n",
       "      <td>99999.0</td>\n",
       "    </tr>\n",
       "    <tr>\n",
       "      <th>Mid Income Senior</th>\n",
       "      <td>8.374173</td>\n",
       "      <td>1.0</td>\n",
       "      <td>99999.0</td>\n",
       "    </tr>\n",
       "  </tbody>\n",
       "</table>\n",
       "</div>"
      ],
      "text/plain": [
       "                                  prices              \n",
       "                                    mean  min      max\n",
       "age_income_profile                                    \n",
       "High Income Adult              24.331543  1.0  99999.0\n",
       "High Income Middle-Aged Adult  13.862041  1.0  99999.0\n",
       "High Income Older Adult        13.521260  1.0  99999.0\n",
       "High Income Senior             13.131265  1.0  99999.0\n",
       "Low Income Adult                6.846439  1.0     25.0\n",
       "Low Income Middle-Aged Adult    6.494197  1.0     25.0\n",
       "Low Income Older Adult          6.521283  1.0     25.0\n",
       "Low Income Senior               6.542942  1.0     25.0\n",
       "Mid Income Adult                8.594765  1.0  99999.0\n",
       "Mid Income Middle-Aged Adult    8.801072  1.0  99999.0\n",
       "Mid Income Older Adult          8.661872  1.0  99999.0\n",
       "Mid Income Senior               8.374173  1.0  99999.0"
      ]
     },
     "execution_count": 64,
     "metadata": {},
     "output_type": "execute_result"
    }
   ],
   "source": [
    "# Aggregating mean, min, and max for age income profile and price\n",
    "\n",
    "filtered_small.groupby('age_income_profile').agg({'prices': ['mean', 'min', 'max']})"
   ]
  },
  {
   "cell_type": "code",
   "execution_count": 65,
   "id": "15e30d6b",
   "metadata": {},
   "outputs": [
    {
     "data": {
      "text/html": [
       "<div>\n",
       "<style scoped>\n",
       "    .dataframe tbody tr th:only-of-type {\n",
       "        vertical-align: middle;\n",
       "    }\n",
       "\n",
       "    .dataframe tbody tr th {\n",
       "        vertical-align: top;\n",
       "    }\n",
       "\n",
       "    .dataframe thead tr th {\n",
       "        text-align: left;\n",
       "    }\n",
       "\n",
       "    .dataframe thead tr:last-of-type th {\n",
       "        text-align: right;\n",
       "    }\n",
       "</style>\n",
       "<table border=\"1\" class=\"dataframe\">\n",
       "  <thead>\n",
       "    <tr>\n",
       "      <th></th>\n",
       "      <th colspan=\"3\" halign=\"left\">days_since_last_order</th>\n",
       "    </tr>\n",
       "    <tr>\n",
       "      <th></th>\n",
       "      <th>mean</th>\n",
       "      <th>min</th>\n",
       "      <th>max</th>\n",
       "    </tr>\n",
       "    <tr>\n",
       "      <th>age_income_profile</th>\n",
       "      <th></th>\n",
       "      <th></th>\n",
       "      <th></th>\n",
       "    </tr>\n",
       "  </thead>\n",
       "  <tbody>\n",
       "    <tr>\n",
       "      <th>High Income Adult</th>\n",
       "      <td>10.844387</td>\n",
       "      <td>0.0</td>\n",
       "      <td>30.0</td>\n",
       "    </tr>\n",
       "    <tr>\n",
       "      <th>High Income Middle-Aged Adult</th>\n",
       "      <td>10.943075</td>\n",
       "      <td>0.0</td>\n",
       "      <td>30.0</td>\n",
       "    </tr>\n",
       "    <tr>\n",
       "      <th>High Income Older Adult</th>\n",
       "      <td>10.800244</td>\n",
       "      <td>0.0</td>\n",
       "      <td>30.0</td>\n",
       "    </tr>\n",
       "    <tr>\n",
       "      <th>High Income Senior</th>\n",
       "      <td>10.883543</td>\n",
       "      <td>0.0</td>\n",
       "      <td>30.0</td>\n",
       "    </tr>\n",
       "    <tr>\n",
       "      <th>Low Income Adult</th>\n",
       "      <td>11.505609</td>\n",
       "      <td>0.0</td>\n",
       "      <td>30.0</td>\n",
       "    </tr>\n",
       "    <tr>\n",
       "      <th>Low Income Middle-Aged Adult</th>\n",
       "      <td>11.224177</td>\n",
       "      <td>0.0</td>\n",
       "      <td>30.0</td>\n",
       "    </tr>\n",
       "    <tr>\n",
       "      <th>Low Income Older Adult</th>\n",
       "      <td>11.473512</td>\n",
       "      <td>0.0</td>\n",
       "      <td>30.0</td>\n",
       "    </tr>\n",
       "    <tr>\n",
       "      <th>Low Income Senior</th>\n",
       "      <td>11.234862</td>\n",
       "      <td>0.0</td>\n",
       "      <td>30.0</td>\n",
       "    </tr>\n",
       "    <tr>\n",
       "      <th>Mid Income Adult</th>\n",
       "      <td>10.846919</td>\n",
       "      <td>0.0</td>\n",
       "      <td>30.0</td>\n",
       "    </tr>\n",
       "    <tr>\n",
       "      <th>Mid Income Middle-Aged Adult</th>\n",
       "      <td>10.875598</td>\n",
       "      <td>0.0</td>\n",
       "      <td>30.0</td>\n",
       "    </tr>\n",
       "    <tr>\n",
       "      <th>Mid Income Older Adult</th>\n",
       "      <td>11.104567</td>\n",
       "      <td>0.0</td>\n",
       "      <td>30.0</td>\n",
       "    </tr>\n",
       "    <tr>\n",
       "      <th>Mid Income Senior</th>\n",
       "      <td>10.919128</td>\n",
       "      <td>0.0</td>\n",
       "      <td>30.0</td>\n",
       "    </tr>\n",
       "  </tbody>\n",
       "</table>\n",
       "</div>"
      ],
      "text/plain": [
       "                              days_since_last_order           \n",
       "                                               mean  min   max\n",
       "age_income_profile                                            \n",
       "High Income Adult                         10.844387  0.0  30.0\n",
       "High Income Middle-Aged Adult             10.943075  0.0  30.0\n",
       "High Income Older Adult                   10.800244  0.0  30.0\n",
       "High Income Senior                        10.883543  0.0  30.0\n",
       "Low Income Adult                          11.505609  0.0  30.0\n",
       "Low Income Middle-Aged Adult              11.224177  0.0  30.0\n",
       "Low Income Older Adult                    11.473512  0.0  30.0\n",
       "Low Income Senior                         11.234862  0.0  30.0\n",
       "Mid Income Adult                          10.846919  0.0  30.0\n",
       "Mid Income Middle-Aged Adult              10.875598  0.0  30.0\n",
       "Mid Income Older Adult                    11.104567  0.0  30.0\n",
       "Mid Income Senior                         10.919128  0.0  30.0"
      ]
     },
     "execution_count": 65,
     "metadata": {},
     "output_type": "execute_result"
    }
   ],
   "source": [
    "# Aggregating mean, min, and max for age income profile and days since last order\n",
    "\n",
    "filtered_small.groupby('age_income_profile').agg({'days_since_last_order': ['mean', 'min', 'max']})"
   ]
  },
  {
   "cell_type": "code",
   "execution_count": 66,
   "id": "ad3cb10f",
   "metadata": {},
   "outputs": [
    {
     "data": {
      "text/html": [
       "<div>\n",
       "<style scoped>\n",
       "    .dataframe tbody tr th:only-of-type {\n",
       "        vertical-align: middle;\n",
       "    }\n",
       "\n",
       "    .dataframe tbody tr th {\n",
       "        vertical-align: top;\n",
       "    }\n",
       "\n",
       "    .dataframe thead tr th {\n",
       "        text-align: left;\n",
       "    }\n",
       "\n",
       "    .dataframe thead tr:last-of-type th {\n",
       "        text-align: right;\n",
       "    }\n",
       "</style>\n",
       "<table border=\"1\" class=\"dataframe\">\n",
       "  <thead>\n",
       "    <tr>\n",
       "      <th></th>\n",
       "      <th colspan=\"3\" halign=\"left\">number_of_orders</th>\n",
       "    </tr>\n",
       "    <tr>\n",
       "      <th></th>\n",
       "      <th>mean</th>\n",
       "      <th>min</th>\n",
       "      <th>max</th>\n",
       "    </tr>\n",
       "    <tr>\n",
       "      <th>fam_dependants_profile</th>\n",
       "      <th></th>\n",
       "      <th></th>\n",
       "      <th></th>\n",
       "    </tr>\n",
       "  </thead>\n",
       "  <tbody>\n",
       "    <tr>\n",
       "      <th>Married w/ Dependants</th>\n",
       "      <td>17.409907</td>\n",
       "      <td>1</td>\n",
       "      <td>99</td>\n",
       "    </tr>\n",
       "    <tr>\n",
       "      <th>Single No Dependants</th>\n",
       "      <td>17.755493</td>\n",
       "      <td>1</td>\n",
       "      <td>99</td>\n",
       "    </tr>\n",
       "  </tbody>\n",
       "</table>\n",
       "</div>"
      ],
      "text/plain": [
       "                       number_of_orders        \n",
       "                                   mean min max\n",
       "fam_dependants_profile                         \n",
       "Married w/ Dependants         17.409907   1  99\n",
       "Single No Dependants          17.755493   1  99"
      ]
     },
     "execution_count": 66,
     "metadata": {},
     "output_type": "execute_result"
    }
   ],
   "source": [
    "# Aggregating mean, min, and max for fam dependants profile and number of orders\n",
    "\n",
    "filtered_small.groupby('fam_dependants_profile').agg({'number_of_orders': ['mean', 'min', 'max']})"
   ]
  },
  {
   "cell_type": "code",
   "execution_count": 67,
   "id": "54a370d8",
   "metadata": {},
   "outputs": [
    {
     "data": {
      "text/html": [
       "<div>\n",
       "<style scoped>\n",
       "    .dataframe tbody tr th:only-of-type {\n",
       "        vertical-align: middle;\n",
       "    }\n",
       "\n",
       "    .dataframe tbody tr th {\n",
       "        vertical-align: top;\n",
       "    }\n",
       "\n",
       "    .dataframe thead tr th {\n",
       "        text-align: left;\n",
       "    }\n",
       "\n",
       "    .dataframe thead tr:last-of-type th {\n",
       "        text-align: right;\n",
       "    }\n",
       "</style>\n",
       "<table border=\"1\" class=\"dataframe\">\n",
       "  <thead>\n",
       "    <tr>\n",
       "      <th></th>\n",
       "      <th colspan=\"3\" halign=\"left\">prices</th>\n",
       "    </tr>\n",
       "    <tr>\n",
       "      <th></th>\n",
       "      <th>mean</th>\n",
       "      <th>min</th>\n",
       "      <th>max</th>\n",
       "    </tr>\n",
       "    <tr>\n",
       "      <th>fam_dependants_profile</th>\n",
       "      <th></th>\n",
       "      <th></th>\n",
       "      <th></th>\n",
       "    </tr>\n",
       "  </thead>\n",
       "  <tbody>\n",
       "    <tr>\n",
       "      <th>Married w/ Dependants</th>\n",
       "      <td>11.796748</td>\n",
       "      <td>1.0</td>\n",
       "      <td>99999.0</td>\n",
       "    </tr>\n",
       "    <tr>\n",
       "      <th>Single No Dependants</th>\n",
       "      <td>12.221258</td>\n",
       "      <td>1.0</td>\n",
       "      <td>99999.0</td>\n",
       "    </tr>\n",
       "  </tbody>\n",
       "</table>\n",
       "</div>"
      ],
      "text/plain": [
       "                           prices              \n",
       "                             mean  min      max\n",
       "fam_dependants_profile                         \n",
       "Married w/ Dependants   11.796748  1.0  99999.0\n",
       "Single No Dependants    12.221258  1.0  99999.0"
      ]
     },
     "execution_count": 67,
     "metadata": {},
     "output_type": "execute_result"
    }
   ],
   "source": [
    "# Aggregating mean, min, and max for fam dependants profile and price\n",
    "\n",
    "filtered_small.groupby('fam_dependants_profile').agg({'prices': ['mean', 'min', 'max']})"
   ]
  },
  {
   "cell_type": "code",
   "execution_count": 68,
   "id": "bcb61552",
   "metadata": {},
   "outputs": [
    {
     "data": {
      "text/html": [
       "<div>\n",
       "<style scoped>\n",
       "    .dataframe tbody tr th:only-of-type {\n",
       "        vertical-align: middle;\n",
       "    }\n",
       "\n",
       "    .dataframe tbody tr th {\n",
       "        vertical-align: top;\n",
       "    }\n",
       "\n",
       "    .dataframe thead tr th {\n",
       "        text-align: left;\n",
       "    }\n",
       "\n",
       "    .dataframe thead tr:last-of-type th {\n",
       "        text-align: right;\n",
       "    }\n",
       "</style>\n",
       "<table border=\"1\" class=\"dataframe\">\n",
       "  <thead>\n",
       "    <tr>\n",
       "      <th></th>\n",
       "      <th colspan=\"3\" halign=\"left\">days_since_last_order</th>\n",
       "    </tr>\n",
       "    <tr>\n",
       "      <th></th>\n",
       "      <th>mean</th>\n",
       "      <th>min</th>\n",
       "      <th>max</th>\n",
       "    </tr>\n",
       "    <tr>\n",
       "      <th>fam_dependants_profile</th>\n",
       "      <th></th>\n",
       "      <th></th>\n",
       "      <th></th>\n",
       "    </tr>\n",
       "  </thead>\n",
       "  <tbody>\n",
       "    <tr>\n",
       "      <th>Married w/ Dependants</th>\n",
       "      <td>10.958048</td>\n",
       "      <td>0.0</td>\n",
       "      <td>30.0</td>\n",
       "    </tr>\n",
       "    <tr>\n",
       "      <th>Single No Dependants</th>\n",
       "      <td>10.862722</td>\n",
       "      <td>0.0</td>\n",
       "      <td>30.0</td>\n",
       "    </tr>\n",
       "  </tbody>\n",
       "</table>\n",
       "</div>"
      ],
      "text/plain": [
       "                       days_since_last_order           \n",
       "                                        mean  min   max\n",
       "fam_dependants_profile                                 \n",
       "Married w/ Dependants              10.958048  0.0  30.0\n",
       "Single No Dependants               10.862722  0.0  30.0"
      ]
     },
     "execution_count": 68,
     "metadata": {},
     "output_type": "execute_result"
    }
   ],
   "source": [
    "# Aggregating mean, min, and max for fam dependants profile and days since last order\n",
    "\n",
    "filtered_small.groupby('fam_dependants_profile').agg({'days_since_last_order': ['mean', 'min', 'max']})"
   ]
  },
  {
   "cell_type": "code",
   "execution_count": 69,
   "id": "927749ab",
   "metadata": {},
   "outputs": [
    {
     "data": {
      "text/html": [
       "<div>\n",
       "<style scoped>\n",
       "    .dataframe tbody tr th:only-of-type {\n",
       "        vertical-align: middle;\n",
       "    }\n",
       "\n",
       "    .dataframe tbody tr th {\n",
       "        vertical-align: top;\n",
       "    }\n",
       "\n",
       "    .dataframe thead tr th {\n",
       "        text-align: left;\n",
       "    }\n",
       "\n",
       "    .dataframe thead tr:last-of-type th {\n",
       "        text-align: right;\n",
       "    }\n",
       "</style>\n",
       "<table border=\"1\" class=\"dataframe\">\n",
       "  <thead>\n",
       "    <tr>\n",
       "      <th></th>\n",
       "      <th colspan=\"3\" halign=\"left\">number_of_orders</th>\n",
       "    </tr>\n",
       "    <tr>\n",
       "      <th></th>\n",
       "      <th>mean</th>\n",
       "      <th>min</th>\n",
       "      <th>max</th>\n",
       "    </tr>\n",
       "    <tr>\n",
       "      <th>fam_age_profile</th>\n",
       "      <th></th>\n",
       "      <th></th>\n",
       "      <th></th>\n",
       "    </tr>\n",
       "  </thead>\n",
       "  <tbody>\n",
       "    <tr>\n",
       "      <th>Married Adult</th>\n",
       "      <td>17.556967</td>\n",
       "      <td>1</td>\n",
       "      <td>99</td>\n",
       "    </tr>\n",
       "    <tr>\n",
       "      <th>Married Middle-Aged Adult</th>\n",
       "      <td>17.377781</td>\n",
       "      <td>1</td>\n",
       "      <td>99</td>\n",
       "    </tr>\n",
       "    <tr>\n",
       "      <th>Married Older Adult</th>\n",
       "      <td>17.370053</td>\n",
       "      <td>1</td>\n",
       "      <td>99</td>\n",
       "    </tr>\n",
       "    <tr>\n",
       "      <th>Married Senior</th>\n",
       "      <td>17.463700</td>\n",
       "      <td>1</td>\n",
       "      <td>99</td>\n",
       "    </tr>\n",
       "    <tr>\n",
       "      <th>Single Adult</th>\n",
       "      <td>17.557527</td>\n",
       "      <td>1</td>\n",
       "      <td>99</td>\n",
       "    </tr>\n",
       "    <tr>\n",
       "      <th>Single Middle-Aged Adult</th>\n",
       "      <td>17.941546</td>\n",
       "      <td>1</td>\n",
       "      <td>99</td>\n",
       "    </tr>\n",
       "    <tr>\n",
       "      <th>Single Older Adult</th>\n",
       "      <td>17.817964</td>\n",
       "      <td>1</td>\n",
       "      <td>99</td>\n",
       "    </tr>\n",
       "    <tr>\n",
       "      <th>Single Senior</th>\n",
       "      <td>17.477212</td>\n",
       "      <td>1</td>\n",
       "      <td>99</td>\n",
       "    </tr>\n",
       "  </tbody>\n",
       "</table>\n",
       "</div>"
      ],
      "text/plain": [
       "                          number_of_orders        \n",
       "                                      mean min max\n",
       "fam_age_profile                                   \n",
       "Married Adult                    17.556967   1  99\n",
       "Married Middle-Aged Adult        17.377781   1  99\n",
       "Married Older Adult              17.370053   1  99\n",
       "Married Senior                   17.463700   1  99\n",
       "Single Adult                     17.557527   1  99\n",
       "Single Middle-Aged Adult         17.941546   1  99\n",
       "Single Older Adult               17.817964   1  99\n",
       "Single Senior                    17.477212   1  99"
      ]
     },
     "execution_count": 69,
     "metadata": {},
     "output_type": "execute_result"
    }
   ],
   "source": [
    "# Aggregating mean, min, and max for fam age profile and number of orders\n",
    "\n",
    "filtered_small.groupby('fam_age_profile').agg({'number_of_orders': ['mean', 'min', 'max']})"
   ]
  },
  {
   "cell_type": "code",
   "execution_count": 70,
   "id": "24939f0c",
   "metadata": {},
   "outputs": [
    {
     "data": {
      "text/html": [
       "<div>\n",
       "<style scoped>\n",
       "    .dataframe tbody tr th:only-of-type {\n",
       "        vertical-align: middle;\n",
       "    }\n",
       "\n",
       "    .dataframe tbody tr th {\n",
       "        vertical-align: top;\n",
       "    }\n",
       "\n",
       "    .dataframe thead tr th {\n",
       "        text-align: left;\n",
       "    }\n",
       "\n",
       "    .dataframe thead tr:last-of-type th {\n",
       "        text-align: right;\n",
       "    }\n",
       "</style>\n",
       "<table border=\"1\" class=\"dataframe\">\n",
       "  <thead>\n",
       "    <tr>\n",
       "      <th></th>\n",
       "      <th colspan=\"3\" halign=\"left\">prices</th>\n",
       "    </tr>\n",
       "    <tr>\n",
       "      <th></th>\n",
       "      <th>mean</th>\n",
       "      <th>min</th>\n",
       "      <th>max</th>\n",
       "    </tr>\n",
       "    <tr>\n",
       "      <th>fam_age_profile</th>\n",
       "      <th></th>\n",
       "      <th></th>\n",
       "      <th></th>\n",
       "    </tr>\n",
       "  </thead>\n",
       "  <tbody>\n",
       "    <tr>\n",
       "      <th>Married Adult</th>\n",
       "      <td>12.237553</td>\n",
       "      <td>1.0</td>\n",
       "      <td>99999.0</td>\n",
       "    </tr>\n",
       "    <tr>\n",
       "      <th>Married Middle-Aged Adult</th>\n",
       "      <td>11.892608</td>\n",
       "      <td>1.0</td>\n",
       "      <td>99999.0</td>\n",
       "    </tr>\n",
       "    <tr>\n",
       "      <th>Married Older Adult</th>\n",
       "      <td>12.260222</td>\n",
       "      <td>1.0</td>\n",
       "      <td>99999.0</td>\n",
       "    </tr>\n",
       "    <tr>\n",
       "      <th>Married Senior</th>\n",
       "      <td>11.175748</td>\n",
       "      <td>1.0</td>\n",
       "      <td>99999.0</td>\n",
       "    </tr>\n",
       "    <tr>\n",
       "      <th>Single Adult</th>\n",
       "      <td>12.886725</td>\n",
       "      <td>1.0</td>\n",
       "      <td>99999.0</td>\n",
       "    </tr>\n",
       "    <tr>\n",
       "      <th>Single Middle-Aged Adult</th>\n",
       "      <td>12.808525</td>\n",
       "      <td>1.0</td>\n",
       "      <td>99999.0</td>\n",
       "    </tr>\n",
       "    <tr>\n",
       "      <th>Single Older Adult</th>\n",
       "      <td>10.730481</td>\n",
       "      <td>1.0</td>\n",
       "      <td>99999.0</td>\n",
       "    </tr>\n",
       "    <tr>\n",
       "      <th>Single Senior</th>\n",
       "      <td>12.662767</td>\n",
       "      <td>1.0</td>\n",
       "      <td>99999.0</td>\n",
       "    </tr>\n",
       "  </tbody>\n",
       "</table>\n",
       "</div>"
      ],
      "text/plain": [
       "                              prices              \n",
       "                                mean  min      max\n",
       "fam_age_profile                                   \n",
       "Married Adult              12.237553  1.0  99999.0\n",
       "Married Middle-Aged Adult  11.892608  1.0  99999.0\n",
       "Married Older Adult        12.260222  1.0  99999.0\n",
       "Married Senior             11.175748  1.0  99999.0\n",
       "Single Adult               12.886725  1.0  99999.0\n",
       "Single Middle-Aged Adult   12.808525  1.0  99999.0\n",
       "Single Older Adult         10.730481  1.0  99999.0\n",
       "Single Senior              12.662767  1.0  99999.0"
      ]
     },
     "execution_count": 70,
     "metadata": {},
     "output_type": "execute_result"
    }
   ],
   "source": [
    "# Aggregating mean, min, and max for fam age profile and price\n",
    "\n",
    "filtered_small.groupby('fam_age_profile').agg({'prices': ['mean', 'min', 'max']})"
   ]
  },
  {
   "cell_type": "code",
   "execution_count": 71,
   "id": "885c648f",
   "metadata": {},
   "outputs": [
    {
     "data": {
      "text/html": [
       "<div>\n",
       "<style scoped>\n",
       "    .dataframe tbody tr th:only-of-type {\n",
       "        vertical-align: middle;\n",
       "    }\n",
       "\n",
       "    .dataframe tbody tr th {\n",
       "        vertical-align: top;\n",
       "    }\n",
       "\n",
       "    .dataframe thead tr th {\n",
       "        text-align: left;\n",
       "    }\n",
       "\n",
       "    .dataframe thead tr:last-of-type th {\n",
       "        text-align: right;\n",
       "    }\n",
       "</style>\n",
       "<table border=\"1\" class=\"dataframe\">\n",
       "  <thead>\n",
       "    <tr>\n",
       "      <th></th>\n",
       "      <th colspan=\"3\" halign=\"left\">days_since_last_order</th>\n",
       "    </tr>\n",
       "    <tr>\n",
       "      <th></th>\n",
       "      <th>mean</th>\n",
       "      <th>min</th>\n",
       "      <th>max</th>\n",
       "    </tr>\n",
       "    <tr>\n",
       "      <th>fam_age_profile</th>\n",
       "      <th></th>\n",
       "      <th></th>\n",
       "      <th></th>\n",
       "    </tr>\n",
       "  </thead>\n",
       "  <tbody>\n",
       "    <tr>\n",
       "      <th>Married Adult</th>\n",
       "      <td>10.930682</td>\n",
       "      <td>0.0</td>\n",
       "      <td>30.0</td>\n",
       "    </tr>\n",
       "    <tr>\n",
       "      <th>Married Middle-Aged Adult</th>\n",
       "      <td>10.989561</td>\n",
       "      <td>0.0</td>\n",
       "      <td>30.0</td>\n",
       "    </tr>\n",
       "    <tr>\n",
       "      <th>Married Older Adult</th>\n",
       "      <td>10.956965</td>\n",
       "      <td>0.0</td>\n",
       "      <td>30.0</td>\n",
       "    </tr>\n",
       "    <tr>\n",
       "      <th>Married Senior</th>\n",
       "      <td>10.920774</td>\n",
       "      <td>0.0</td>\n",
       "      <td>30.0</td>\n",
       "    </tr>\n",
       "    <tr>\n",
       "      <th>Single Adult</th>\n",
       "      <td>10.932076</td>\n",
       "      <td>0.0</td>\n",
       "      <td>30.0</td>\n",
       "    </tr>\n",
       "    <tr>\n",
       "      <th>Single Middle-Aged Adult</th>\n",
       "      <td>10.839960</td>\n",
       "      <td>0.0</td>\n",
       "      <td>30.0</td>\n",
       "    </tr>\n",
       "    <tr>\n",
       "      <th>Single Older Adult</th>\n",
       "      <td>10.821964</td>\n",
       "      <td>0.0</td>\n",
       "      <td>30.0</td>\n",
       "    </tr>\n",
       "    <tr>\n",
       "      <th>Single Senior</th>\n",
       "      <td>10.919228</td>\n",
       "      <td>0.0</td>\n",
       "      <td>30.0</td>\n",
       "    </tr>\n",
       "  </tbody>\n",
       "</table>\n",
       "</div>"
      ],
      "text/plain": [
       "                          days_since_last_order           \n",
       "                                           mean  min   max\n",
       "fam_age_profile                                           \n",
       "Married Adult                         10.930682  0.0  30.0\n",
       "Married Middle-Aged Adult             10.989561  0.0  30.0\n",
       "Married Older Adult                   10.956965  0.0  30.0\n",
       "Married Senior                        10.920774  0.0  30.0\n",
       "Single Adult                          10.932076  0.0  30.0\n",
       "Single Middle-Aged Adult              10.839960  0.0  30.0\n",
       "Single Older Adult                    10.821964  0.0  30.0\n",
       "Single Senior                         10.919228  0.0  30.0"
      ]
     },
     "execution_count": 71,
     "metadata": {},
     "output_type": "execute_result"
    }
   ],
   "source": [
    "# Aggregating mean, min, and max for fam age profile and days since last order\n",
    "\n",
    "filtered_small.groupby('fam_age_profile').agg({'days_since_last_order': ['mean', 'min', 'max']})"
   ]
  },
  {
   "cell_type": "code",
   "execution_count": 72,
   "id": "3a5f65d6",
   "metadata": {},
   "outputs": [],
   "source": [
    "age_frequency = pd.crosstab(filtered_small['frequency_flag'],filtered_small['age_income_profile'],dropna = False)"
   ]
  },
  {
   "cell_type": "code",
   "execution_count": 73,
   "id": "29faacf2",
   "metadata": {},
   "outputs": [
    {
     "data": {
      "text/html": [
       "<div>\n",
       "<style scoped>\n",
       "    .dataframe tbody tr th:only-of-type {\n",
       "        vertical-align: middle;\n",
       "    }\n",
       "\n",
       "    .dataframe tbody tr th {\n",
       "        vertical-align: top;\n",
       "    }\n",
       "\n",
       "    .dataframe thead th {\n",
       "        text-align: right;\n",
       "    }\n",
       "</style>\n",
       "<table border=\"1\" class=\"dataframe\">\n",
       "  <thead>\n",
       "    <tr style=\"text-align: right;\">\n",
       "      <th>age_income_profile</th>\n",
       "      <th>High Income Adult</th>\n",
       "      <th>High Income Middle-Aged Adult</th>\n",
       "      <th>High Income Older Adult</th>\n",
       "      <th>High Income Senior</th>\n",
       "      <th>Low Income Adult</th>\n",
       "      <th>Low Income Middle-Aged Adult</th>\n",
       "      <th>Low Income Older Adult</th>\n",
       "      <th>Low Income Senior</th>\n",
       "      <th>Mid Income Adult</th>\n",
       "      <th>Mid Income Middle-Aged Adult</th>\n",
       "      <th>Mid Income Older Adult</th>\n",
       "      <th>Mid Income Senior</th>\n",
       "    </tr>\n",
       "    <tr>\n",
       "      <th>frequency_flag</th>\n",
       "      <th></th>\n",
       "      <th></th>\n",
       "      <th></th>\n",
       "      <th></th>\n",
       "      <th></th>\n",
       "      <th></th>\n",
       "      <th></th>\n",
       "      <th></th>\n",
       "      <th></th>\n",
       "      <th></th>\n",
       "      <th></th>\n",
       "      <th></th>\n",
       "    </tr>\n",
       "  </thead>\n",
       "  <tbody>\n",
       "    <tr>\n",
       "      <th>Frequent customer</th>\n",
       "      <td>49906</td>\n",
       "      <td>1047846</td>\n",
       "      <td>702442</td>\n",
       "      <td>774173</td>\n",
       "      <td>23204</td>\n",
       "      <td>124059</td>\n",
       "      <td>78429</td>\n",
       "      <td>89599</td>\n",
       "      <td>119193</td>\n",
       "      <td>330839</td>\n",
       "      <td>212848</td>\n",
       "      <td>242628</td>\n",
       "    </tr>\n",
       "    <tr>\n",
       "      <th>Non-frequent customer</th>\n",
       "      <td>7093</td>\n",
       "      <td>155334</td>\n",
       "      <td>101856</td>\n",
       "      <td>111486</td>\n",
       "      <td>4811</td>\n",
       "      <td>24162</td>\n",
       "      <td>16225</td>\n",
       "      <td>17014</td>\n",
       "      <td>17093</td>\n",
       "      <td>51428</td>\n",
       "      <td>35223</td>\n",
       "      <td>36545</td>\n",
       "    </tr>\n",
       "    <tr>\n",
       "      <th>Regular customer</th>\n",
       "      <td>15892</td>\n",
       "      <td>349009</td>\n",
       "      <td>218837</td>\n",
       "      <td>255538</td>\n",
       "      <td>8984</td>\n",
       "      <td>43190</td>\n",
       "      <td>28922</td>\n",
       "      <td>29844</td>\n",
       "      <td>38337</td>\n",
       "      <td>107077</td>\n",
       "      <td>71331</td>\n",
       "      <td>76302</td>\n",
       "    </tr>\n",
       "  </tbody>\n",
       "</table>\n",
       "</div>"
      ],
      "text/plain": [
       "age_income_profile     High Income Adult  High Income Middle-Aged Adult  \\\n",
       "frequency_flag                                                            \n",
       "Frequent customer                  49906                        1047846   \n",
       "Non-frequent customer               7093                         155334   \n",
       "Regular customer                   15892                         349009   \n",
       "\n",
       "age_income_profile     High Income Older Adult  High Income Senior  \\\n",
       "frequency_flag                                                       \n",
       "Frequent customer                       702442              774173   \n",
       "Non-frequent customer                   101856              111486   \n",
       "Regular customer                        218837              255538   \n",
       "\n",
       "age_income_profile     Low Income Adult  Low Income Middle-Aged Adult  \\\n",
       "frequency_flag                                                          \n",
       "Frequent customer                 23204                        124059   \n",
       "Non-frequent customer              4811                         24162   \n",
       "Regular customer                   8984                         43190   \n",
       "\n",
       "age_income_profile     Low Income Older Adult  Low Income Senior  \\\n",
       "frequency_flag                                                     \n",
       "Frequent customer                       78429              89599   \n",
       "Non-frequent customer                   16225              17014   \n",
       "Regular customer                        28922              29844   \n",
       "\n",
       "age_income_profile     Mid Income Adult  Mid Income Middle-Aged Adult  \\\n",
       "frequency_flag                                                          \n",
       "Frequent customer                119193                        330839   \n",
       "Non-frequent customer             17093                         51428   \n",
       "Regular customer                  38337                        107077   \n",
       "\n",
       "age_income_profile     Mid Income Older Adult  Mid Income Senior  \n",
       "frequency_flag                                                    \n",
       "Frequent customer                      212848             242628  \n",
       "Non-frequent customer                   35223              36545  \n",
       "Regular customer                        71331              76302  "
      ]
     },
     "execution_count": 73,
     "metadata": {},
     "output_type": "execute_result"
    }
   ],
   "source": [
    "age_frequency"
   ]
  },
  {
   "cell_type": "markdown",
   "id": "0df13512",
   "metadata": {},
   "source": [
    "# Compare Customer Profiles by Region and Department"
   ]
  },
  {
   "cell_type": "code",
   "execution_count": 74,
   "id": "e7a8d818",
   "metadata": {},
   "outputs": [
    {
     "data": {
      "image/png": "[encoded data removed]",
      "text/plain": [
       "<Figure size 640x480 with 1 Axes>"
      ]
     },
     "metadata": {},
     "output_type": "display_data"
    }
   ],
   "source": [
    "# Group by age_income_profile & region\n",
    "\n",
    "age_income_region = filtered_small.groupby(['age_income_profile','Region']).size().unstack()\n",
    "\n",
    "# Sort values, ascending\n",
    "\n",
    "age_income_region = age_income_region.loc[age_income_region.sum(axis = 1).sort_values(ascending = True).index]\n",
    "\n",
    "# Create a stacked bar chart\n",
    "\n",
    "age_income_region = age_income_region.plot.barh(stacked = True, title ='Age Income Profile by Region')\n"
   ]
  },
  {
   "cell_type": "code",
   "execution_count": 75,
   "id": "7fd36796",
   "metadata": {},
   "outputs": [],
   "source": [
    "# Export chart\n",
    "age_income_region.figure.savefig(os.path.join(path, '04 Analysis','Visualizations', 'age_income_profile_by_region.png'))"
   ]
  },
  {
   "cell_type": "code",
   "execution_count": 76,
   "id": "655b191f",
   "metadata": {},
   "outputs": [
    {
     "data": {
      "image/png": "[encoded data removed]",
      "text/plain": [
       "<Figure size 640x480 with 1 Axes>"
      ]
     },
     "metadata": {},
     "output_type": "display_data"
    }
   ],
   "source": [
    "# Group by fam_dependants_profile & region\n",
    "fam_dependants_region = filtered_small.groupby(['fam_dependants_profile','Region']).size().unstack()\n",
    "# Sort values, ascending\n",
    "fam_dependants_region = fam_dependants_region.loc[fam_dependants_region.sum(axis = 1).sort_values(ascending = True).index]\n",
    "# Create stacked bar chart\n",
    "fam_dependants_region = fam_dependants_region.plot.barh(stacked = True, title ='Fam/Dependants Profile by Region')"
   ]
  },
  {
   "cell_type": "code",
   "execution_count": 77,
   "id": "9b7fc542",
   "metadata": {},
   "outputs": [],
   "source": [
    "# Export chart\n",
    "fam_dependants_region.figure.savefig(os.path.join(path, '04 Analysis','Visualizations', 'fam_dependants_profile_by_region.png'))"
   ]
  },
  {
   "cell_type": "code",
   "execution_count": 78,
   "id": "77a78e19",
   "metadata": {},
   "outputs": [
    {
     "data": {
      "image/png": "[encoded data removed]",
      "text/plain": [
       "<Figure size 640x480 with 1 Axes>"
      ]
     },
     "metadata": {},
     "output_type": "display_data"
    }
   ],
   "source": [
    "# Group by fam_age_profile and region\n",
    "fam_age_region = filtered_small.groupby(['fam_age_profile','Region']).size().unstack()\n",
    "# Sort values, ascending\n",
    "fam_age_region = fam_age_region.loc[fam_age_region.sum(axis = 1).sort_values(ascending = True).index]\n",
    "# Create stacked bar chart\n",
    "fam_age_region = fam_age_region.plot.barh(stacked = True, title ='Fam Status/Age Group Profile by Region')"
   ]
  },
  {
   "cell_type": "code",
   "execution_count": 79,
   "id": "1cb41155",
   "metadata": {},
   "outputs": [],
   "source": [
    "# Export chart\n",
    "fam_age_region.figure.savefig(os.path.join(path, '04 Analysis','Visualizations', 'fam_age_profile_by_region.png'))"
   ]
  },
  {
   "cell_type": "code",
   "execution_count": 80,
   "id": "10e4787c",
   "metadata": {},
   "outputs": [
    {
     "data": {
      "image/png": "[encoded data removed]",
      "text/plain": [
       "<Figure size 640x480 with 1 Axes>"
      ]
     },
     "metadata": {},
     "output_type": "display_data"
    }
   ],
   "source": [
    "# Group by age_income_profile & department\n",
    "\n",
    "age_income_department = filtered_small.groupby(['age_income_profile','department']).size().unstack()\n",
    "\n",
    "# Sort values, ascending\n",
    "\n",
    "age_income_department = age_income_department.loc[age_income_department.sum(axis = 1).sort_values(ascending = True).index]\n",
    "\n",
    "# Create a stacked bar chart\n",
    "\n",
    "age_income_department = age_income_department.plot.barh(stacked = True, title ='Age Income Profile by Department')"
   ]
  },
  {
   "cell_type": "code",
   "execution_count": 81,
   "id": "1f540049",
   "metadata": {},
   "outputs": [],
   "source": [
    "# Export chart\n",
    "age_income_department.figure.savefig(os.path.join(path, '04 Analysis','Visualizations', 'age_income_profile_by_department.png'))"
   ]
  },
  {
   "cell_type": "code",
   "execution_count": 82,
   "id": "d66593b7",
   "metadata": {},
   "outputs": [
    {
     "data": {
      "image/png": "[encoded data removed]",
      "text/plain": [
       "<Figure size 640x480 with 1 Axes>"
      ]
     },
     "metadata": {},
     "output_type": "display_data"
    }
   ],
   "source": [
    "# Group by fam_dependants_profile & department\n",
    "\n",
    "fam_dependants_department = filtered_small.groupby(['fam_dependants_profile','department']).size().unstack()\n",
    "\n",
    "# Sort values, ascending\n",
    "\n",
    "fam_dependants_department = fam_dependants_department.loc[fam_dependants_department.sum(axis = 1).sort_values(ascending = True).index]\n",
    "\n",
    "# Create a stacked bar chart\n",
    "\n",
    "fam_dependants_department = fam_dependants_department.plot.barh(stacked = True, title ='Fam Status/Dependants Profile by Department')"
   ]
  },
  {
   "cell_type": "code",
   "execution_count": 83,
   "id": "2fe87e5b",
   "metadata": {},
   "outputs": [],
   "source": [
    "fam_dependants_department.figure.savefig(os.path.join(path, '04 Analysis','Visualizations', 'fam_dependants_profile_by_department.png'))"
   ]
  },
  {
   "cell_type": "code",
   "execution_count": 84,
   "id": "d388e954",
   "metadata": {},
   "outputs": [
    {
     "data": {
      "image/png": "[encoded data removed]",
      "text/plain": [
       "<Figure size 640x480 with 1 Axes>"
      ]
     },
     "metadata": {},
     "output_type": "display_data"
    }
   ],
   "source": [
    "# Group by fam_age_profile & department\n",
    "\n",
    "fam_age_department = filtered_small.groupby(['fam_age_profile','department']).size().unstack()\n",
    "\n",
    "# Sort values, ascending\n",
    "\n",
    "fam_age_department = fam_age_department.loc[fam_age_department.sum(axis = 1).sort_values(ascending = True).index]\n",
    "\n",
    "# Create a stacked bar chart\n",
    "\n",
    "fam_age_department = fam_age_department.plot.barh(stacked = True, title ='Fam Status/Age Group Profile by Department')"
   ]
  },
  {
   "cell_type": "code",
   "execution_count": 85,
   "id": "a14264a7",
   "metadata": {},
   "outputs": [],
   "source": [
    "# Export chart\n",
    "fam_age_department.figure.savefig(os.path.join(path, '04 Analysis','Visualizations', 'fam_age_profile_by_department.png'))"
   ]
  },
  {
   "cell_type": "code",
   "execution_count": 86,
   "id": "063dcf4c",
   "metadata": {},
   "outputs": [],
   "source": [
    "# Exporting dataframe\n",
    "filtered_small.to_pickle(os.path.join(path, '02 Data','Prepared Data', 'final_dataset.pkl'))"
   ]
  },
  {
   "cell_type": "code",
   "execution_count": null,
   "id": "c7f8b5d5",
   "metadata": {},
   "outputs": [],
   "source": []
  }
 ],
 "metadata": {
  "kernelspec": {
   "display_name": "Python 3 (ipykernel)",
   "language": "python",
   "name": "python3"
  },
  "language_info": {
   "codemirror_mode": {
    "name": "ipython",
    "version": 3
   },
   "file_extension": ".py",
   "mimetype": "text/x-python",
   "name": "python",
   "nbconvert_exporter": "python",
   "pygments_lexer": "ipython3",
   "version": "3.11.5"
  }
 },
 "nbformat": 4,
 "nbformat_minor": 5
}
